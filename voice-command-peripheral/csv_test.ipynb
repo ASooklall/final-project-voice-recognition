{
 "cells": [
  {
   "cell_type": "code",
   "execution_count": 1,
   "metadata": {},
   "outputs": [],
   "source": [
    "from datetime import datetime, timedelta\n",
    "import pandas as pd\n",
    "import time"
   ]
  },
  {
   "cell_type": "code",
   "execution_count": 3,
   "metadata": {},
   "outputs": [
    {
     "data": {
      "text/html": [
       "<div>\n",
       "<style scoped>\n",
       "    .dataframe tbody tr th:only-of-type {\n",
       "        vertical-align: middle;\n",
       "    }\n",
       "\n",
       "    .dataframe tbody tr th {\n",
       "        vertical-align: top;\n",
       "    }\n",
       "\n",
       "    .dataframe thead th {\n",
       "        text-align: right;\n",
       "    }\n",
       "</style>\n",
       "<table border=\"1\" class=\"dataframe\">\n",
       "  <thead>\n",
       "    <tr style=\"text-align: right;\">\n",
       "      <th></th>\n",
       "      <th>datetime</th>\n",
       "      <th>input</th>\n",
       "      <th>mode</th>\n",
       "    </tr>\n",
       "  </thead>\n",
       "  <tbody>\n",
       "    <tr>\n",
       "      <th>0</th>\n",
       "      <td>2020-02-07 21:22:43.411133</td>\n",
       "      <td>up</td>\n",
       "      <td>sequence</td>\n",
       "    </tr>\n",
       "    <tr>\n",
       "      <th>1</th>\n",
       "      <td>2020-02-07 21:22:43.825271</td>\n",
       "      <td>up</td>\n",
       "      <td>sequence</td>\n",
       "    </tr>\n",
       "    <tr>\n",
       "      <th>2</th>\n",
       "      <td>2020-02-07 21:22:44.235036</td>\n",
       "      <td>up</td>\n",
       "      <td>sequence</td>\n",
       "    </tr>\n",
       "    <tr>\n",
       "      <th>3</th>\n",
       "      <td>2020-02-07 21:22:44.648458</td>\n",
       "      <td>up</td>\n",
       "      <td>sequence</td>\n",
       "    </tr>\n",
       "    <tr>\n",
       "      <th>4</th>\n",
       "      <td>2020-02-07 21:22:45.060685</td>\n",
       "      <td>up</td>\n",
       "      <td>sequence</td>\n",
       "    </tr>\n",
       "  </tbody>\n",
       "</table>\n",
       "</div>"
      ],
      "text/plain": [
       "                     datetime input      mode\n",
       "0  2020-02-07 21:22:43.411133    up  sequence\n",
       "1  2020-02-07 21:22:43.825271    up  sequence\n",
       "2  2020-02-07 21:22:44.235036    up  sequence\n",
       "3  2020-02-07 21:22:44.648458    up  sequence\n",
       "4  2020-02-07 21:22:45.060685    up  sequence"
      ]
     },
     "execution_count": 3,
     "metadata": {},
     "output_type": "execute_result"
    }
   ],
   "source": [
    "df = pd.read_csv('../data/logs/vcp_log.csv')\n",
    "df.head()"
   ]
  },
  {
   "cell_type": "code",
   "execution_count": 4,
   "metadata": {},
   "outputs": [],
   "source": [
    "df['datetime_r'] =  pd.to_datetime(df['datetime'], format = '%Y-%m-%d %H:%M:%S.%f')"
   ]
  },
  {
   "cell_type": "code",
   "execution_count": 5,
   "metadata": {},
   "outputs": [
    {
     "data": {
      "text/html": [
       "<div>\n",
       "<style scoped>\n",
       "    .dataframe tbody tr th:only-of-type {\n",
       "        vertical-align: middle;\n",
       "    }\n",
       "\n",
       "    .dataframe tbody tr th {\n",
       "        vertical-align: top;\n",
       "    }\n",
       "\n",
       "    .dataframe thead th {\n",
       "        text-align: right;\n",
       "    }\n",
       "</style>\n",
       "<table border=\"1\" class=\"dataframe\">\n",
       "  <thead>\n",
       "    <tr style=\"text-align: right;\">\n",
       "      <th></th>\n",
       "      <th>datetime</th>\n",
       "      <th>input</th>\n",
       "      <th>mode</th>\n",
       "      <th>datetime_r</th>\n",
       "    </tr>\n",
       "  </thead>\n",
       "  <tbody>\n",
       "    <tr>\n",
       "      <th>0</th>\n",
       "      <td>2020-02-07 21:22:43.411133</td>\n",
       "      <td>up</td>\n",
       "      <td>sequence</td>\n",
       "      <td>2020-02-07 21:22:43.411133</td>\n",
       "    </tr>\n",
       "    <tr>\n",
       "      <th>1</th>\n",
       "      <td>2020-02-07 21:22:43.825271</td>\n",
       "      <td>up</td>\n",
       "      <td>sequence</td>\n",
       "      <td>2020-02-07 21:22:43.825271</td>\n",
       "    </tr>\n",
       "    <tr>\n",
       "      <th>2</th>\n",
       "      <td>2020-02-07 21:22:44.235036</td>\n",
       "      <td>up</td>\n",
       "      <td>sequence</td>\n",
       "      <td>2020-02-07 21:22:44.235036</td>\n",
       "    </tr>\n",
       "    <tr>\n",
       "      <th>3</th>\n",
       "      <td>2020-02-07 21:22:44.648458</td>\n",
       "      <td>up</td>\n",
       "      <td>sequence</td>\n",
       "      <td>2020-02-07 21:22:44.648458</td>\n",
       "    </tr>\n",
       "    <tr>\n",
       "      <th>4</th>\n",
       "      <td>2020-02-07 21:22:45.060685</td>\n",
       "      <td>up</td>\n",
       "      <td>sequence</td>\n",
       "      <td>2020-02-07 21:22:45.060685</td>\n",
       "    </tr>\n",
       "  </tbody>\n",
       "</table>\n",
       "</div>"
      ],
      "text/plain": [
       "                     datetime input      mode                 datetime_r\n",
       "0  2020-02-07 21:22:43.411133    up  sequence 2020-02-07 21:22:43.411133\n",
       "1  2020-02-07 21:22:43.825271    up  sequence 2020-02-07 21:22:43.825271\n",
       "2  2020-02-07 21:22:44.235036    up  sequence 2020-02-07 21:22:44.235036\n",
       "3  2020-02-07 21:22:44.648458    up  sequence 2020-02-07 21:22:44.648458\n",
       "4  2020-02-07 21:22:45.060685    up  sequence 2020-02-07 21:22:45.060685"
      ]
     },
     "execution_count": 5,
     "metadata": {},
     "output_type": "execute_result"
    }
   ],
   "source": [
    "df.head()"
   ]
  },
  {
   "cell_type": "code",
   "execution_count": 10,
   "metadata": {},
   "outputs": [],
   "source": [
    "a = df['datetime_r'][1] - df['datetime_r'][0]"
   ]
  },
  {
   "cell_type": "code",
   "execution_count": 21,
   "metadata": {},
   "outputs": [
    {
     "data": {
      "text/plain": [
       "0.414138"
      ]
     },
     "execution_count": 21,
     "metadata": {},
     "output_type": "execute_result"
    }
   ],
   "source": [
    "a.total_seconds()"
   ]
  },
  {
   "cell_type": "code",
   "execution_count": 23,
   "metadata": {},
   "outputs": [
    {
     "data": {
      "text/plain": [
       "1412"
      ]
     },
     "execution_count": 23,
     "metadata": {},
     "output_type": "execute_result"
    }
   ],
   "source": [
    "rows = len(df['datetime_r'])\n",
    "rows"
   ]
  },
  {
   "cell_type": "code",
   "execution_count": 40,
   "metadata": {},
   "outputs": [
    {
     "name": "stdout",
     "output_type": "stream",
     "text": [
      "2020-02-07 21:31:16.524228\n",
      "2020-02-07 22:08:45.819384\n",
      "--------------------------\n",
      "2020-02-07 22:09:13.219582\n",
      "2020-02-07 22:17:18.292342\n",
      "--------------------------\n",
      "2020-02-07 22:23:58.466970\n",
      "2020-02-08 10:12:22.110039\n",
      "--------------------------\n",
      "2020-02-08 10:21:55.373558\n",
      "2020-02-08 10:29:00.471188\n",
      "--------------------------\n",
      "2020-02-08 10:40:55.113595\n",
      "2020-02-08 10:46:49.793644\n",
      "--------------------------\n",
      "2020-02-08 10:59:12.634329\n",
      "2020-02-08 11:07:40.036686\n",
      "--------------------------\n",
      "2020-02-08 11:10:14.003028\n",
      "2020-02-08 11:51:43.995670\n",
      "--------------------------\n",
      "2020-02-08 12:40:41.753487\n",
      "2020-02-08 12:45:49.563188\n",
      "--------------------------\n",
      "2020-02-08 13:23:33.799195\n",
      "2020-02-08 13:41:25.099714\n",
      "--------------------------\n"
     ]
    }
   ],
   "source": [
    "i = 1\n",
    "for i in range(1,rows):\n",
    "    a = df['datetime_r'][i] - df['datetime_r'][i-1]\n",
    "    t = a.total_seconds()\n",
    "    if t > 300:\n",
    "        print(df['datetime_r'][i-1])\n",
    "        print(df['datetime_r'][i])\n",
    "        print('--------------------------')"
   ]
  },
  {
   "cell_type": "code",
   "execution_count": null,
   "metadata": {},
   "outputs": [],
   "source": []
  }
 ],
 "metadata": {
  "kernelspec": {
   "display_name": "Python 3",
   "language": "python",
   "name": "python3"
  },
  "language_info": {
   "codemirror_mode": {
    "name": "ipython",
    "version": 3
   },
   "file_extension": ".py",
   "mimetype": "text/x-python",
   "name": "python",
   "nbconvert_exporter": "python",
   "pygments_lexer": "ipython3",
   "version": "3.7.3"
  }
 },
 "nbformat": 4,
 "nbformat_minor": 2
}
