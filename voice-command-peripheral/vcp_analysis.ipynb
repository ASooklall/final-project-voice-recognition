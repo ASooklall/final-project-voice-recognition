{
 "cells": [
  {
   "cell_type": "code",
   "execution_count": 1,
   "metadata": {},
   "outputs": [],
   "source": [
    "import pandas as pd\n",
    "from datetime import datetime, timedelta\n",
    "import time"
   ]
  },
  {
   "cell_type": "code",
   "execution_count": 2,
   "metadata": {},
   "outputs": [],
   "source": [
    "vcp_log_df = pd.read_csv('../data/logs/vcp_log.csv')"
   ]
  },
  {
   "cell_type": "code",
   "execution_count": 3,
   "metadata": {},
   "outputs": [
    {
     "data": {
      "text/html": [
       "<div>\n",
       "<style scoped>\n",
       "    .dataframe tbody tr th:only-of-type {\n",
       "        vertical-align: middle;\n",
       "    }\n",
       "\n",
       "    .dataframe tbody tr th {\n",
       "        vertical-align: top;\n",
       "    }\n",
       "\n",
       "    .dataframe thead th {\n",
       "        text-align: right;\n",
       "    }\n",
       "</style>\n",
       "<table border=\"1\" class=\"dataframe\">\n",
       "  <thead>\n",
       "    <tr style=\"text-align: right;\">\n",
       "      <th></th>\n",
       "      <th>datetime</th>\n",
       "      <th>input</th>\n",
       "      <th>mode</th>\n",
       "    </tr>\n",
       "  </thead>\n",
       "  <tbody>\n",
       "    <tr>\n",
       "      <th>1407</th>\n",
       "      <td>2020-02-08 14:08:22.826858</td>\n",
       "      <td>right</td>\n",
       "      <td>sequence</td>\n",
       "    </tr>\n",
       "    <tr>\n",
       "      <th>1408</th>\n",
       "      <td>2020-02-08 14:08:29.921605</td>\n",
       "      <td>except</td>\n",
       "      <td>sequence</td>\n",
       "    </tr>\n",
       "    <tr>\n",
       "      <th>1409</th>\n",
       "      <td>2020-02-08 14:08:46.339166</td>\n",
       "      <td>confirm</td>\n",
       "      <td>sequence</td>\n",
       "    </tr>\n",
       "    <tr>\n",
       "      <th>1410</th>\n",
       "      <td>2020-02-08 14:08:46.692154</td>\n",
       "      <td>confirm</td>\n",
       "      <td>sequence</td>\n",
       "    </tr>\n",
       "    <tr>\n",
       "      <th>1411</th>\n",
       "      <td>2020-02-08 14:10:32.699952</td>\n",
       "      <td>yes</td>\n",
       "      <td>sequence</td>\n",
       "    </tr>\n",
       "  </tbody>\n",
       "</table>\n",
       "</div>"
      ],
      "text/plain": [
       "                        datetime    input      mode\n",
       "1407  2020-02-08 14:08:22.826858    right  sequence\n",
       "1408  2020-02-08 14:08:29.921605   except  sequence\n",
       "1409  2020-02-08 14:08:46.339166  confirm  sequence\n",
       "1410  2020-02-08 14:08:46.692154  confirm  sequence\n",
       "1411  2020-02-08 14:10:32.699952      yes  sequence"
      ]
     },
     "execution_count": 3,
     "metadata": {},
     "output_type": "execute_result"
    }
   ],
   "source": [
    "vcp_log_df.tail()"
   ]
  },
  {
   "cell_type": "code",
   "execution_count": 4,
   "metadata": {},
   "outputs": [
    {
     "name": "stdout",
     "output_type": "stream",
     "text": [
      "<class 'pandas.core.frame.DataFrame'>\n",
      "RangeIndex: 1412 entries, 0 to 1411\n",
      "Data columns (total 3 columns):\n",
      "datetime    1412 non-null object\n",
      "input       1412 non-null object\n",
      "mode        1412 non-null object\n",
      "dtypes: object(3)\n",
      "memory usage: 33.2+ KB\n"
     ]
    }
   ],
   "source": [
    "vcp_log_df.info()"
   ]
  },
  {
   "cell_type": "code",
   "execution_count": 5,
   "metadata": {},
   "outputs": [
    {
     "name": "stdout",
     "output_type": "stream",
     "text": [
      "<class 'str'> 2020-02-07 21:22:43.411133\n"
     ]
    }
   ],
   "source": [
    "dt_ob = vcp_log_df.loc[0, 'datetime']\n",
    "print(type(dt_ob), dt_ob)"
   ]
  },
  {
   "cell_type": "code",
   "execution_count": 6,
   "metadata": {},
   "outputs": [
    {
     "data": {
      "text/plain": [
       "datetime.datetime(2020, 2, 7, 21, 22, 43, 411133)"
      ]
     },
     "execution_count": 6,
     "metadata": {},
     "output_type": "execute_result"
    }
   ],
   "source": [
    "datetime.strptime(dt_ob, '%Y-%m-%d %H:%M:%S.%f')"
   ]
  },
  {
   "cell_type": "code",
   "execution_count": 7,
   "metadata": {},
   "outputs": [],
   "source": [
    "vcp_dt_df = vcp_log_df.copy()"
   ]
  },
  {
   "cell_type": "code",
   "execution_count": 8,
   "metadata": {},
   "outputs": [],
   "source": [
    "vcp_dt_df['datetime'] = pd.to_datetime(vcp_dt_df['datetime'], format='%Y-%m-%d %H:%M:%S.%f')"
   ]
  },
  {
   "cell_type": "code",
   "execution_count": 9,
   "metadata": {},
   "outputs": [
    {
     "data": {
      "text/html": [
       "<div>\n",
       "<style scoped>\n",
       "    .dataframe tbody tr th:only-of-type {\n",
       "        vertical-align: middle;\n",
       "    }\n",
       "\n",
       "    .dataframe tbody tr th {\n",
       "        vertical-align: top;\n",
       "    }\n",
       "\n",
       "    .dataframe thead th {\n",
       "        text-align: right;\n",
       "    }\n",
       "</style>\n",
       "<table border=\"1\" class=\"dataframe\">\n",
       "  <thead>\n",
       "    <tr style=\"text-align: right;\">\n",
       "      <th></th>\n",
       "      <th>datetime</th>\n",
       "      <th>input</th>\n",
       "      <th>mode</th>\n",
       "    </tr>\n",
       "  </thead>\n",
       "  <tbody>\n",
       "    <tr>\n",
       "      <th>1407</th>\n",
       "      <td>2020-02-08 14:08:22.826858</td>\n",
       "      <td>right</td>\n",
       "      <td>sequence</td>\n",
       "    </tr>\n",
       "    <tr>\n",
       "      <th>1408</th>\n",
       "      <td>2020-02-08 14:08:29.921605</td>\n",
       "      <td>except</td>\n",
       "      <td>sequence</td>\n",
       "    </tr>\n",
       "    <tr>\n",
       "      <th>1409</th>\n",
       "      <td>2020-02-08 14:08:46.339166</td>\n",
       "      <td>confirm</td>\n",
       "      <td>sequence</td>\n",
       "    </tr>\n",
       "    <tr>\n",
       "      <th>1410</th>\n",
       "      <td>2020-02-08 14:08:46.692154</td>\n",
       "      <td>confirm</td>\n",
       "      <td>sequence</td>\n",
       "    </tr>\n",
       "    <tr>\n",
       "      <th>1411</th>\n",
       "      <td>2020-02-08 14:10:32.699952</td>\n",
       "      <td>yes</td>\n",
       "      <td>sequence</td>\n",
       "    </tr>\n",
       "  </tbody>\n",
       "</table>\n",
       "</div>"
      ],
      "text/plain": [
       "                       datetime    input      mode\n",
       "1407 2020-02-08 14:08:22.826858    right  sequence\n",
       "1408 2020-02-08 14:08:29.921605   except  sequence\n",
       "1409 2020-02-08 14:08:46.339166  confirm  sequence\n",
       "1410 2020-02-08 14:08:46.692154  confirm  sequence\n",
       "1411 2020-02-08 14:10:32.699952      yes  sequence"
      ]
     },
     "execution_count": 9,
     "metadata": {},
     "output_type": "execute_result"
    }
   ],
   "source": [
    "vcp_dt_df.tail()"
   ]
  },
  {
   "cell_type": "code",
   "execution_count": 10,
   "metadata": {},
   "outputs": [
    {
     "name": "stdout",
     "output_type": "stream",
     "text": [
      "<class 'pandas.core.frame.DataFrame'>\n",
      "RangeIndex: 1412 entries, 0 to 1411\n",
      "Data columns (total 3 columns):\n",
      "datetime    1412 non-null datetime64[ns]\n",
      "input       1412 non-null object\n",
      "mode        1412 non-null object\n",
      "dtypes: datetime64[ns](1), object(2)\n",
      "memory usage: 33.2+ KB\n"
     ]
    }
   ],
   "source": [
    "vcp_dt_df.info()"
   ]
  },
  {
   "cell_type": "code",
   "execution_count": 11,
   "metadata": {},
   "outputs": [
    {
     "data": {
      "text/plain": [
       "1412"
      ]
     },
     "execution_count": 11,
     "metadata": {},
     "output_type": "execute_result"
    }
   ],
   "source": [
    "len(vcp_dt_df)"
   ]
  },
  {
   "cell_type": "code",
   "execution_count": 27,
   "metadata": {},
   "outputs": [],
   "source": [
    "playsession_list = []\n",
    "playsession_entry = {\n",
    "    'session_start' : vcp_dt_df.loc[0, 'datetime'],\n",
    "    'session_end' : vcp_dt_df.loc[0, 'datetime'],\n",
    "    'session_seconds' : timedelta().total_seconds(),\n",
    "    'sequence' : 1 if vcp_dt_df.loc[0, 'mode'] == 'sequence' else 0,\n",
    "    'special' : 1 if vcp_dt_df.loc[0, 'mode'] == 'special' else 0,\n",
    "    'incorrect' : 1 if vcp_dt_df.loc[0, 'mode'] == 'incorrect' else 0,\n",
    "    'total_commands' : 1\n",
    "}\n",
    "# print(playsession_entry)\n",
    "\n",
    "# last_row = 100\n",
    "last_row = len(vcp_dt_df)\n",
    "for i in range(1, last_row):\n",
    "    if (vcp_dt_df.loc[i, 'datetime'] - vcp_dt_df.loc[i-1, 'datetime']).total_seconds() < 300:\n",
    "        playsession_entry['session_end'] = vcp_dt_df.loc[i, 'datetime']\n",
    "        playsession_entry[vcp_dt_df.loc[i, 'mode']] += 1\n",
    "        playsession_entry['total_commands'] += 1\n",
    "    else:\n",
    "        playsession_entry['session_seconds'] = (playsession_entry['session_end'] - playsession_entry['session_start']).total_seconds()\n",
    "        playsession_list.append(playsession_entry)\n",
    "#         print(playsession_entry, '\\n')\n",
    "        \n",
    "        playsession_entry = {\n",
    "            'session_start' : vcp_dt_df.loc[i, 'datetime'],\n",
    "            'session_end' : vcp_dt_df.loc[i, 'datetime'],\n",
    "            'session_seconds' : timedelta().total_seconds(),\n",
    "            'sequence' : 1 if vcp_dt_df.loc[i, 'mode'] == 'sequence' else 0,\n",
    "            'special' : 1 if vcp_dt_df.loc[i, 'mode'] == 'special' else 0,\n",
    "            'incorrect' : 1 if vcp_dt_df.loc[i, 'mode'] == 'incorrect' else 0,\n",
    "            'total_commands' : 1\n",
    "        }\n",
    "\n",
    "playsession_entry['session_seconds'] = (playsession_entry['session_end'] - playsession_entry['session_start']).total_seconds()\n",
    "playsession_list.append(playsession_entry)\n",
    "# print(playsession_entry, '\\n')"
   ]
  },
  {
   "cell_type": "code",
   "execution_count": 28,
   "metadata": {},
   "outputs": [],
   "source": [
    "playsession_df = pd.DataFrame(playsession_list)"
   ]
  },
  {
   "cell_type": "code",
   "execution_count": 29,
   "metadata": {},
   "outputs": [
    {
     "data": {
      "text/html": [
       "<div>\n",
       "<style scoped>\n",
       "    .dataframe tbody tr th:only-of-type {\n",
       "        vertical-align: middle;\n",
       "    }\n",
       "\n",
       "    .dataframe tbody tr th {\n",
       "        vertical-align: top;\n",
       "    }\n",
       "\n",
       "    .dataframe thead th {\n",
       "        text-align: right;\n",
       "    }\n",
       "</style>\n",
       "<table border=\"1\" class=\"dataframe\">\n",
       "  <thead>\n",
       "    <tr style=\"text-align: right;\">\n",
       "      <th></th>\n",
       "      <th>session_start</th>\n",
       "      <th>session_end</th>\n",
       "      <th>session_seconds</th>\n",
       "      <th>sequence</th>\n",
       "      <th>special</th>\n",
       "      <th>incorrect</th>\n",
       "      <th>total_commands</th>\n",
       "    </tr>\n",
       "  </thead>\n",
       "  <tbody>\n",
       "    <tr>\n",
       "      <th>0</th>\n",
       "      <td>2020-02-07 21:22:43.411133</td>\n",
       "      <td>2020-02-07 21:31:16.524228</td>\n",
       "      <td>513.113095</td>\n",
       "      <td>23</td>\n",
       "      <td>5</td>\n",
       "      <td>0</td>\n",
       "      <td>28</td>\n",
       "    </tr>\n",
       "    <tr>\n",
       "      <th>1</th>\n",
       "      <td>2020-02-07 22:08:45.819384</td>\n",
       "      <td>2020-02-07 22:09:13.219582</td>\n",
       "      <td>27.400198</td>\n",
       "      <td>4</td>\n",
       "      <td>1</td>\n",
       "      <td>0</td>\n",
       "      <td>5</td>\n",
       "    </tr>\n",
       "    <tr>\n",
       "      <th>2</th>\n",
       "      <td>2020-02-07 22:17:18.292342</td>\n",
       "      <td>2020-02-07 22:23:58.466970</td>\n",
       "      <td>400.174628</td>\n",
       "      <td>8</td>\n",
       "      <td>8</td>\n",
       "      <td>0</td>\n",
       "      <td>16</td>\n",
       "    </tr>\n",
       "    <tr>\n",
       "      <th>3</th>\n",
       "      <td>2020-02-08 10:12:22.110039</td>\n",
       "      <td>2020-02-08 10:21:55.373558</td>\n",
       "      <td>573.263519</td>\n",
       "      <td>9</td>\n",
       "      <td>4</td>\n",
       "      <td>3</td>\n",
       "      <td>16</td>\n",
       "    </tr>\n",
       "    <tr>\n",
       "      <th>4</th>\n",
       "      <td>2020-02-08 10:29:00.471188</td>\n",
       "      <td>2020-02-08 10:40:55.113595</td>\n",
       "      <td>714.642407</td>\n",
       "      <td>43</td>\n",
       "      <td>11</td>\n",
       "      <td>6</td>\n",
       "      <td>60</td>\n",
       "    </tr>\n",
       "    <tr>\n",
       "      <th>5</th>\n",
       "      <td>2020-02-08 10:46:49.793644</td>\n",
       "      <td>2020-02-08 10:59:12.634329</td>\n",
       "      <td>742.840685</td>\n",
       "      <td>6</td>\n",
       "      <td>46</td>\n",
       "      <td>3</td>\n",
       "      <td>55</td>\n",
       "    </tr>\n",
       "    <tr>\n",
       "      <th>6</th>\n",
       "      <td>2020-02-08 11:07:40.036686</td>\n",
       "      <td>2020-02-08 11:10:14.003028</td>\n",
       "      <td>153.966342</td>\n",
       "      <td>18</td>\n",
       "      <td>48</td>\n",
       "      <td>1</td>\n",
       "      <td>67</td>\n",
       "    </tr>\n",
       "    <tr>\n",
       "      <th>7</th>\n",
       "      <td>2020-02-08 11:51:43.995670</td>\n",
       "      <td>2020-02-08 12:40:41.753487</td>\n",
       "      <td>2937.757817</td>\n",
       "      <td>244</td>\n",
       "      <td>184</td>\n",
       "      <td>17</td>\n",
       "      <td>445</td>\n",
       "    </tr>\n",
       "    <tr>\n",
       "      <th>8</th>\n",
       "      <td>2020-02-08 12:45:49.563188</td>\n",
       "      <td>2020-02-08 13:23:33.799195</td>\n",
       "      <td>2264.236007</td>\n",
       "      <td>193</td>\n",
       "      <td>350</td>\n",
       "      <td>16</td>\n",
       "      <td>559</td>\n",
       "    </tr>\n",
       "    <tr>\n",
       "      <th>9</th>\n",
       "      <td>2020-02-08 13:41:25.099714</td>\n",
       "      <td>2020-02-08 14:10:32.699952</td>\n",
       "      <td>1747.600238</td>\n",
       "      <td>119</td>\n",
       "      <td>29</td>\n",
       "      <td>13</td>\n",
       "      <td>161</td>\n",
       "    </tr>\n",
       "  </tbody>\n",
       "</table>\n",
       "</div>"
      ],
      "text/plain": [
       "               session_start                session_end  session_seconds  \\\n",
       "0 2020-02-07 21:22:43.411133 2020-02-07 21:31:16.524228       513.113095   \n",
       "1 2020-02-07 22:08:45.819384 2020-02-07 22:09:13.219582        27.400198   \n",
       "2 2020-02-07 22:17:18.292342 2020-02-07 22:23:58.466970       400.174628   \n",
       "3 2020-02-08 10:12:22.110039 2020-02-08 10:21:55.373558       573.263519   \n",
       "4 2020-02-08 10:29:00.471188 2020-02-08 10:40:55.113595       714.642407   \n",
       "5 2020-02-08 10:46:49.793644 2020-02-08 10:59:12.634329       742.840685   \n",
       "6 2020-02-08 11:07:40.036686 2020-02-08 11:10:14.003028       153.966342   \n",
       "7 2020-02-08 11:51:43.995670 2020-02-08 12:40:41.753487      2937.757817   \n",
       "8 2020-02-08 12:45:49.563188 2020-02-08 13:23:33.799195      2264.236007   \n",
       "9 2020-02-08 13:41:25.099714 2020-02-08 14:10:32.699952      1747.600238   \n",
       "\n",
       "   sequence  special  incorrect  total_commands  \n",
       "0        23        5          0              28  \n",
       "1         4        1          0               5  \n",
       "2         8        8          0              16  \n",
       "3         9        4          3              16  \n",
       "4        43       11          6              60  \n",
       "5         6       46          3              55  \n",
       "6        18       48          1              67  \n",
       "7       244      184         17             445  \n",
       "8       193      350         16             559  \n",
       "9       119       29         13             161  "
      ]
     },
     "execution_count": 29,
     "metadata": {},
     "output_type": "execute_result"
    }
   ],
   "source": [
    "playsession_df"
   ]
  },
  {
   "cell_type": "code",
   "execution_count": null,
   "metadata": {},
   "outputs": [],
   "source": []
  }
 ],
 "metadata": {
  "kernelspec": {
   "display_name": "Python 3",
   "language": "python",
   "name": "python3"
  },
  "language_info": {
   "codemirror_mode": {
    "name": "ipython",
    "version": 3
   },
   "file_extension": ".py",
   "mimetype": "text/x-python",
   "name": "python",
   "nbconvert_exporter": "python",
   "pygments_lexer": "ipython3",
   "version": "3.6.8"
  }
 },
 "nbformat": 4,
 "nbformat_minor": 2
}
