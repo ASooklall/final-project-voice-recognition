{
 "cells": [
  {
   "cell_type": "code",
   "execution_count": null,
   "metadata": {},
   "outputs": [],
   "source": [
    "# pip install SpeechRecognition"
   ]
  },
  {
   "cell_type": "code",
   "execution_count": 2,
   "metadata": {},
   "outputs": [],
   "source": [
    "import speech_recognition as sr\n",
    "import pyaudio"
   ]
  },
  {
   "cell_type": "code",
   "execution_count": 3,
   "metadata": {},
   "outputs": [],
   "source": [
    "r = sr.Recognizer()"
   ]
  },
  {
   "cell_type": "code",
   "execution_count": 4,
   "metadata": {},
   "outputs": [],
   "source": [
    "mic = sr.Microphone()"
   ]
  },
  {
   "cell_type": "code",
   "execution_count": 5,
   "metadata": {
    "scrolled": false
   },
   "outputs": [
    {
     "data": {
      "text/plain": [
       "['Microsoft Sound Mapper - Input',\n",
       " 'Microphone (Logitech USB Microp',\n",
       " 'Microphone Array (Realtek High ',\n",
       " 'Microsoft Sound Mapper - Output',\n",
       " 'Speakers (Realtek High Definiti',\n",
       " 'Headset Microphone (Realtek HD Audio Mic input)',\n",
       " 'Speakers 1 (Realtek HD Audio output with SST)',\n",
       " 'Speakers 2 (Realtek HD Audio output with SST)',\n",
       " 'PC Speaker (Realtek HD Audio output with SST)',\n",
       " 'Microphone Array (Realtek HD Audio Mic Array input)',\n",
       " 'Headphones 1 (Realtek HD Audio 2nd output with SST)',\n",
       " 'Headphones 2 (Realtek HD Audio 2nd output with SST)',\n",
       " 'PC Speaker (Realtek HD Audio 2nd output with SST)',\n",
       " 'Output (@System32\\\\drivers\\\\bthhfenum.sys,#4;%1 Hands-Free HF Audio%0\\r\\n;(Andrew’s iPhone))',\n",
       " 'Input (@System32\\\\drivers\\\\bthhfenum.sys,#4;%1 Hands-Free HF Audio%0\\r\\n;(Andrew’s iPhone))',\n",
       " 'Microphone (Logitech USB Microphone)']"
      ]
     },
     "execution_count": 5,
     "metadata": {},
     "output_type": "execute_result"
    }
   ],
   "source": [
    "sr.Microphone.list_microphone_names()"
   ]
  },
  {
   "cell_type": "code",
   "execution_count": null,
   "metadata": {},
   "outputs": [],
   "source": [
    "mic = sr.Microphone(device_index=0)"
   ]
  },
  {
   "cell_type": "code",
   "execution_count": 18,
   "metadata": {},
   "outputs": [],
   "source": [
    "with mic as source:\n",
    "    r.adjust_for_ambient_noise(source)\n",
    "    audio = r.listen(source)\n"
   ]
  },
  {
   "cell_type": "code",
   "execution_count": 19,
   "metadata": {},
   "outputs": [
    {
     "ename": "UnknownValueError",
     "evalue": "",
     "output_type": "error",
     "traceback": [
      "\u001b[0;31m---------------------------------------------------------------------------\u001b[0m",
      "\u001b[0;31mUnknownValueError\u001b[0m                         Traceback (most recent call last)",
      "\u001b[0;32m<ipython-input-19-59c33ef07a2e>\u001b[0m in \u001b[0;36m<module>\u001b[0;34m\u001b[0m\n\u001b[0;32m----> 1\u001b[0;31m \u001b[0mr\u001b[0m\u001b[0;34m.\u001b[0m\u001b[0mrecognize_google\u001b[0m\u001b[0;34m(\u001b[0m\u001b[0maudio\u001b[0m\u001b[0;34m)\u001b[0m\u001b[0;34m\u001b[0m\u001b[0;34m\u001b[0m\u001b[0m\n\u001b[0m",
      "\u001b[0;32m~/anaconda3/lib/python3.6/site-packages/speech_recognition/__init__.py\u001b[0m in \u001b[0;36mrecognize_google\u001b[0;34m(self, audio_data, key, language, show_all)\u001b[0m\n\u001b[1;32m    856\u001b[0m         \u001b[0;31m# return results\u001b[0m\u001b[0;34m\u001b[0m\u001b[0;34m\u001b[0m\u001b[0;34m\u001b[0m\u001b[0m\n\u001b[1;32m    857\u001b[0m         \u001b[0;32mif\u001b[0m \u001b[0mshow_all\u001b[0m\u001b[0;34m:\u001b[0m \u001b[0;32mreturn\u001b[0m \u001b[0mactual_result\u001b[0m\u001b[0;34m\u001b[0m\u001b[0;34m\u001b[0m\u001b[0m\n\u001b[0;32m--> 858\u001b[0;31m         \u001b[0;32mif\u001b[0m \u001b[0;32mnot\u001b[0m \u001b[0misinstance\u001b[0m\u001b[0;34m(\u001b[0m\u001b[0mactual_result\u001b[0m\u001b[0;34m,\u001b[0m \u001b[0mdict\u001b[0m\u001b[0;34m)\u001b[0m \u001b[0;32mor\u001b[0m \u001b[0mlen\u001b[0m\u001b[0;34m(\u001b[0m\u001b[0mactual_result\u001b[0m\u001b[0;34m.\u001b[0m\u001b[0mget\u001b[0m\u001b[0;34m(\u001b[0m\u001b[0;34m\"alternative\"\u001b[0m\u001b[0;34m,\u001b[0m \u001b[0;34m[\u001b[0m\u001b[0;34m]\u001b[0m\u001b[0;34m)\u001b[0m\u001b[0;34m)\u001b[0m \u001b[0;34m==\u001b[0m \u001b[0;36m0\u001b[0m\u001b[0;34m:\u001b[0m \u001b[0;32mraise\u001b[0m \u001b[0mUnknownValueError\u001b[0m\u001b[0;34m(\u001b[0m\u001b[0;34m)\u001b[0m\u001b[0;34m\u001b[0m\u001b[0;34m\u001b[0m\u001b[0m\n\u001b[0m\u001b[1;32m    859\u001b[0m \u001b[0;34m\u001b[0m\u001b[0m\n\u001b[1;32m    860\u001b[0m         \u001b[0;32mif\u001b[0m \u001b[0;34m\"confidence\"\u001b[0m \u001b[0;32min\u001b[0m \u001b[0mactual_result\u001b[0m\u001b[0;34m[\u001b[0m\u001b[0;34m\"alternative\"\u001b[0m\u001b[0;34m]\u001b[0m\u001b[0;34m:\u001b[0m\u001b[0;34m\u001b[0m\u001b[0;34m\u001b[0m\u001b[0m\n",
      "\u001b[0;31mUnknownValueError\u001b[0m: "
     ]
    }
   ],
   "source": [
    "r.recognize_google(audio)"
   ]
  },
  {
   "cell_type": "code",
   "execution_count": null,
   "metadata": {},
   "outputs": [],
   "source": [
    "# import wave\n",
    "# CHUNK = 1024\n",
    "# FORMAT = pyaudio.paInt16\n",
    "# CHANNELS = 2\n",
    "# RATE = 44100\n",
    "# RECORD_SECONDS = 5\n",
    "# WAVE_OUTPUT_FILENAME = \"voice.wav\"\n",
    "\n",
    "# p = pyaudio.PyAudio()\n",
    "\n",
    "# stream = p.open(format=FORMAT,\n",
    "#                 channels=CHANNELS,\n",
    "#                 rate=RATE,\n",
    "#                 input=True,\n",
    "#                 frames_per_buffer=CHUNK)\n",
    "\n",
    "# print(\"* recording\")\n",
    "\n",
    "# frames = []\n",
    "\n",
    "# for i in range(0, int(RATE / CHUNK * RECORD_SECONDS)):\n",
    "#     data = stream.read(CHUNK)\n",
    "#     frames.append(data)\n",
    "\n",
    "# print(\"* done recording\")\n",
    "\n",
    "# stream.stop_stream()\n",
    "# stream.close()\n",
    "# p.terminate()\n",
    "\n",
    "# wf = wave.open(WAVE_OUTPUT_FILENAME, 'wb')\n",
    "# wf.setnchannels(CHANNELS)\n",
    "# wf.setsampwidth(p.get_sample_size(FORMAT))\n",
    "# wf.setframerate(RATE)\n",
    "# wf.writeframes(b''.join(frames))\n",
    "# wf.close()"
   ]
  },
  {
   "cell_type": "code",
   "execution_count": 40,
   "metadata": {},
   "outputs": [],
   "source": [
    "def rec(): \n",
    "    try:\n",
    "        with mic as source:\n",
    "            r.adjust_for_ambient_noise(source)\n",
    "            audio = r.listen(source)\n",
    "        audio_play = r.recognize_google(audio)\n",
    "        return audio_play\n",
    "    except:\n",
    "        print(\"Pikachu didn't hear you, please try again\")"
   ]
  },
  {
   "cell_type": "code",
   "execution_count": 41,
   "metadata": {},
   "outputs": [
    {
     "data": {
      "text/plain": [
       "'test 1 2 3 4'"
      ]
     },
     "execution_count": 41,
     "metadata": {},
     "output_type": "execute_result"
    }
   ],
   "source": [
    "rec()"
   ]
  },
  {
   "cell_type": "code",
   "execution_count": 9,
   "metadata": {},
   "outputs": [],
   "source": [
    "def move(name, move):\n",
    "    movelist = ['thundershock', 'thunderbolt', 'splash']\n",
    "    if move in movelist:\n",
    "#         try:\n",
    "        print(f'{name} used {move}.')\n",
    "#         except:\n",
    "    else:\n",
    "        print(f\"Please format your command using '(Pokemon) used (move)'\")"
   ]
  },
  {
   "cell_type": "code",
   "execution_count": 10,
   "metadata": {},
   "outputs": [],
   "source": [
    "def test(): \n",
    "    audio_play = rec()\n",
    "    audio_list = audio_play.split()\n",
    "#     for audios in audio_play: audio_list.append(audios)\n",
    "    print (audio_list)\n",
    "    attack = move(audio_list[0], audio_list[2])\n",
    "    return attack"
   ]
  },
  {
   "cell_type": "code",
   "execution_count": 11,
   "metadata": {},
   "outputs": [
    {
     "name": "stdout",
     "output_type": "stream",
     "text": [
      "Pikachu didn't hear you, please try again\n"
     ]
    },
    {
     "ename": "AttributeError",
     "evalue": "'NoneType' object has no attribute 'split'",
     "output_type": "error",
     "traceback": [
      "\u001b[0;31m---------------------------------------------------------------------------\u001b[0m",
      "\u001b[0;31mAttributeError\u001b[0m                            Traceback (most recent call last)",
      "\u001b[0;32m<ipython-input-11-fbd55f77ab7c>\u001b[0m in \u001b[0;36m<module>\u001b[0;34m\u001b[0m\n\u001b[0;32m----> 1\u001b[0;31m \u001b[0mtest\u001b[0m\u001b[0;34m(\u001b[0m\u001b[0;34m)\u001b[0m\u001b[0;34m\u001b[0m\u001b[0;34m\u001b[0m\u001b[0m\n\u001b[0m",
      "\u001b[0;32m<ipython-input-10-0c3366961c58>\u001b[0m in \u001b[0;36mtest\u001b[0;34m()\u001b[0m\n\u001b[1;32m      1\u001b[0m \u001b[0;32mdef\u001b[0m \u001b[0mtest\u001b[0m\u001b[0;34m(\u001b[0m\u001b[0;34m)\u001b[0m\u001b[0;34m:\u001b[0m\u001b[0;34m\u001b[0m\u001b[0;34m\u001b[0m\u001b[0m\n\u001b[1;32m      2\u001b[0m     \u001b[0maudio_play\u001b[0m \u001b[0;34m=\u001b[0m \u001b[0mrec\u001b[0m\u001b[0;34m(\u001b[0m\u001b[0;34m)\u001b[0m\u001b[0;34m\u001b[0m\u001b[0;34m\u001b[0m\u001b[0m\n\u001b[0;32m----> 3\u001b[0;31m     \u001b[0maudio_list\u001b[0m \u001b[0;34m=\u001b[0m \u001b[0maudio_play\u001b[0m\u001b[0;34m.\u001b[0m\u001b[0msplit\u001b[0m\u001b[0;34m(\u001b[0m\u001b[0;34m)\u001b[0m\u001b[0;34m\u001b[0m\u001b[0;34m\u001b[0m\u001b[0m\n\u001b[0m\u001b[1;32m      4\u001b[0m \u001b[0;31m#     for audios in audio_play: audio_list.append(audios)\u001b[0m\u001b[0;34m\u001b[0m\u001b[0;34m\u001b[0m\u001b[0;34m\u001b[0m\u001b[0m\n\u001b[1;32m      5\u001b[0m     \u001b[0mprint\u001b[0m \u001b[0;34m(\u001b[0m\u001b[0maudio_list\u001b[0m\u001b[0;34m)\u001b[0m\u001b[0;34m\u001b[0m\u001b[0;34m\u001b[0m\u001b[0m\n",
      "\u001b[0;31mAttributeError\u001b[0m: 'NoneType' object has no attribute 'split'"
     ]
    }
   ],
   "source": [
    "test()"
   ]
  },
  {
   "cell_type": "code",
   "execution_count": 12,
   "metadata": {},
   "outputs": [],
   "source": [
    "temp_moves = ['thundershock','quick attack', 'splash']"
   ]
  },
  {
   "cell_type": "code",
   "execution_count": 13,
   "metadata": {},
   "outputs": [
    {
     "data": {
      "text/plain": [
       "'Pikachu I want you to use magimagikarp splashuuu you'"
      ]
     },
     "execution_count": 13,
     "metadata": {},
     "output_type": "execute_result"
    }
   ],
   "source": [
    "sen_test = 'Pikachu I want you to use magimagikarp splashuuu you'\n",
    "sen_test"
   ]
  },
  {
   "cell_type": "code",
   "execution_count": 14,
   "metadata": {},
   "outputs": [
    {
     "data": {
      "text/plain": [
       "['Pikachu I want you to ', ' magimagikarp splashuuu you']"
      ]
     },
     "execution_count": 14,
     "metadata": {},
     "output_type": "execute_result"
    }
   ],
   "source": [
    "sen_split = sen_test.split('use')\n",
    "sen_split"
   ]
  },
  {
   "cell_type": "code",
   "execution_count": 15,
   "metadata": {},
   "outputs": [
    {
     "data": {
      "text/plain": [
       "['magimagikarp', 'splashuuu', 'you']"
      ]
     },
     "execution_count": 15,
     "metadata": {},
     "output_type": "execute_result"
    }
   ],
   "source": [
    "sen2 = sen_split[1].split()\n",
    "sen2"
   ]
  },
  {
   "cell_type": "code",
   "execution_count": 16,
   "metadata": {},
   "outputs": [
    {
     "name": "stdout",
     "output_type": "stream",
     "text": [
      "['magimagikarp', 'splashuuu', 'you']\n",
      "Please try again, pokemon does not understand you.\n"
     ]
    }
   ],
   "source": [
    "def test2(sentence):\n",
    "#     audio_play = rec()\n",
    "#     audio_list = audio_play.split()\n",
    "#     print (audio_list)\n",
    "    print(sentence)\n",
    "    temp_moves = ['thundershock','quick attack', 'splash', 'thunderbolt']\n",
    "    for i in range(0, len(sentence)):\n",
    "        try: \n",
    "            if sentence[i] in temp_moves:\n",
    "                print(sentence[i])\n",
    "                break\n",
    "            elif sentence[i]+\" \"+sentence[i+1] in temp_moves:\n",
    "                print(sentence[i]+\" \"+sentence[i+1])\n",
    "                break\n",
    "        except:\n",
    "            print('Please try again, pokemon does not understand you.')\n",
    "            break\n",
    "    \n",
    "test2(sen2)"
   ]
  },
  {
   "cell_type": "code",
   "execution_count": 17,
   "metadata": {},
   "outputs": [
    {
     "name": "stdout",
     "output_type": "stream",
     "text": [
      "Pikachu didn't hear you, please try again\n",
      "Please try again, pokemon does not understand you. Say \"use [move name here]\"\n"
     ]
    }
   ],
   "source": [
    "def test2():\n",
    "    try:\n",
    "        audio_play = rec().lower()\n",
    "        audio_list = audio_play.split('use')\n",
    "        audio_sample = audio_list[1]\n",
    "        sentence = audio_sample.split()\n",
    "        \n",
    "\n",
    "        temp_moves = ['thundershock','quick attack', 'splash', 'thunderbolt']\n",
    "        for i in range(0, len(sentence)):\n",
    "            try: \n",
    "                if sentence[i] in temp_moves:\n",
    "                    print(sentence[i])\n",
    "                    break\n",
    "                elif sentence[i]+\" \"+sentence[i+1] in temp_moves:\n",
    "                    print(sentence[i]+\" \"+sentence[i+1])\n",
    "                    break\n",
    "            except:\n",
    "                print('Please try again, pokemon does not understand you. Say \"use [move name here]\"')\n",
    "                break\n",
    "    except:\n",
    "        print('Please try again, pokemon does not understand you. Say \"use [move name here]\"')\n",
    "\n",
    "    \n",
    "test2()"
   ]
  },
  {
   "cell_type": "code",
   "execution_count": 8,
   "metadata": {},
   "outputs": [],
   "source": [
    "pokemon_list = [\n",
    "{'name':'pikachu','stats': {'health':3,'attack':1,'defense':1,'speed':1,'current_health':3}, \n",
    " 'moves':[{'name':'thundershock','power':1,'type':'electric'},{'name':'quick attack','power':1,'type':'normal'},{'name':'thunderbolt','power':1,'type':'electric'},{'name':'iron tail','power':1,'type':'steel'}],},\n",
    "{'name':'mewtwo','stats':{'health':3,'attack':1,'defense':1,'speed':1,'current_health':3},\n",
    " 'moves':[{'name':'psychic','power':1,'type':'psychic'},{'name':'swift','power':1,'type':'normal'},{'name':'recover','power':1,'type':'psychic'},{'name':'psybeam','power':1,'type':'psychic'}],},\n",
    "{'name':'charizard','stats':{'health':3,'attack':1,'defense':1,'speed':1,'current_health':3},\n",
    " 'moves':[{'name':'fire blast','power':1,'type':'fire'},{'name':'slash','power':1,'type':'normal'},{'name':'flamethrower','power':1,'type':'fire'},{'name':'steel wing','power':1,'type':'steel'}],},\n",
    "{'name':'vensausaur','stats':{'health':3,'attack':1,'defense':1,'speed':1,'current_health':3},\n",
    " 'moves':[{'name':'solar beam','power':1,'type':'grass'},{'name':'razor leaf','power':1,'type':'grass'},{'name':'take down','power':1,'type':'normal'},{'name':'earthquake','power':1,'type':'ground'}],},\n",
    "{'name':'blastoise','stats':{'health':3,'attack':1,'defense':1,'speed':1,'current_health':3},\n",
    " 'moves':[{'name':'surf','power':1,'type':'water'},{'name':'hydro pump','power':1,'type':'water'},{'name':'strength','power':1,'type':'normal'},{'name':'water gun','power':1,'type':'water'}],},\n",
    "{'name':'eevee','stats':{'health':3,'attack':1,'defense':1,'speed':1,'current_health':3},\n",
    " 'moves':[{'name':'quick attack','power':1,'type':'normal'},{'name':'swift','power':1,'type':'normal'},{'name':'take down','power':1,'type':'normal'},{'name':'last resort','power':1,'type':'normal'}],},\n",
    "{'name':'onyx','stats':{'health':3,'attack':1,'defense':1,'speed':1,'current_health':3},\n",
    " 'moves':[{'name':'dig','power':1,'type':'ground'},{'name':'iron tail','power':1,'type':'steel'},{'name':'stone edge','power':1,'type':'rock'},{'name':'slam','power':1,'type':'normal'}],},\n",
    "{'name':'alakazam','stats':{'health':3,'attack':1,'defense':1,'speed':1,'current_health':3},\n",
    " 'moves':[{'name':'psybeam','power':1,'type':'psychic'},{'name':'recover','power':1,'type':'normal'},{'name':'psychic','power':1,'type':'psychic'},{'name':'night shade','power':1,'type':'ghost'}],},\n",
    "{'name':'gengar','stats':{'health':3,'attack':1,'defense':1,'speed':1,'current_health':3},\n",
    " 'moves':[{'name':'shadow ball','power':1,'type':'ghost'},{'name':'dark pulse','power':1,'type':'dark'},{'name':'hypnosis','power':1,'type':'normal'},{'name':'dream eater','power':1,'type':'ghost'}],},\n",
    "{'name':'nidoqueen','stats':{'health':3,'attack':1,'defense':1,'speed':1,'current_health':3},\n",
    " 'moves':[{'name':'body slam','power':1,'type':'normal'},{'name':'super power','power':1,'type':'fighting'},{'name':'counter','power':1,'type':'fighting'},{'name':'dragon tail','power':1,'type':'dragon'}],},\n",
    "{'name':'machamp','stats':{'health':3,'attack':1,'defense':1,'speed':1,'current_health':3},\n",
    " 'moves':[{'name':'cross chop','power':1,'type':'fighting'},{'name':'dynamic punch','power':1,'type':'fighting'},{'name':'seismic toss','power':1,'type':'fighting'},{'name':'dual chop','power':1,'type':'dragon'}],},\n",
    "]\n",
    "\n"
   ]
  },
  {
   "cell_type": "code",
   "execution_count": 156,
   "metadata": {},
   "outputs": [
    {
     "name": "stdout",
     "output_type": "stream",
     "text": [
      "you said: Pikachu use iron tail\n",
      "pikachu used iron tail! It did 1 damage, just because. \n",
      "\n",
      "{'name': 'pikachu', 'stats': {'health': 3, 'attack': 1, 'defense': 1, 'speed': 1, 'current_health': 3}, 'moves': [{'name': 'thundershock', 'power': 1, 'type': 'electric'}, {'name': 'quick attack', 'power': 1, 'type': 'normal'}, {'name': 'thunderbolt', 'power': 1, 'type': 'electric'}, {'name': 'iron tail', 'power': 1, 'type': 'steel'}]}\n",
      "\n",
      "{'name': 'iron tail', 'power': 1, 'type': 'steel'}\n"
     ]
    }
   ],
   "source": [
    "def dict_test2():\n",
    "\n",
    "    try:\n",
    "        # Record in '(Pokemon Name) use (move)' format\n",
    "        audio_play = rec_z().lower()\n",
    "        audio_list = audio_play.split(' use')\n",
    "        \n",
    "#         print(audio_play)\n",
    "#         print('---------')\n",
    "\n",
    "        pokemon_name = audio_list[0].lower()\n",
    "\n",
    "        move_audio = audio_list[1]\n",
    "\n",
    "        # check if pokemon_name in pokemon database\n",
    "        flag = False    #check to see if pokemon_name is found\n",
    "        for pokemon in pokemon_list:\n",
    "\n",
    "            if pokemon['name'] == pokemon_name:\n",
    "                flag = True\n",
    "                temp_moves = pokemon['moves']   # becomes our movelist\n",
    "                choose_pokemon = pokemon\n",
    "                choose_pokemon_name = pokemon['name']\n",
    "        \n",
    "        if flag == False:\n",
    "            print(\"Sorry, we couldn't find your pokemon\", pokemon_name)\n",
    "        \n",
    "#         print(temp_moves)\n",
    "#         print ('-------------- \\n')\n",
    "        \n",
    "        for mvs in temp_moves:\n",
    "            if mvs['name'] in move_audio:\n",
    "#                 print(mvs)\n",
    "                choose_move = mvs\n",
    "                choose_move_name = mvs['name']\n",
    "               \n",
    "                \n",
    "        print(f'{choose_pokemon_name} used {choose_move_name}! It did 1 damage, just because. \\n\\n{choose_pokemon}\\n\\n{choose_move}')\n",
    "    \n",
    "    except IndexError:\n",
    "        print('Please try again, pokemon does not understand you. Say \"use [move name here]\"')\n",
    "\n",
    "    \n",
    "\n",
    "dict_test2()"
   ]
  },
  {
   "cell_type": "code",
   "execution_count": 154,
   "metadata": {},
   "outputs": [],
   "source": [
    "def rec_z():\n",
    "    try:\n",
    "        rt = sr.Recognizer()\n",
    "        mic = sr.Microphone(device_index=0)\n",
    "        with mic as source:\n",
    "    #         rt.adjust_for_ambient_noise(source)\n",
    "            rt.energy_threshold = 3000\n",
    "            rt.dynamic_energy_threshold = True\n",
    "            rt.adjust_for_ambient_noise(source, duration = 0.6)\n",
    "            audio = rt.listen(source, timeout = 2)\n",
    "            try: \n",
    "                audio_play = rt.recognize_google(audio) \n",
    "                print(\"you said: \" + audio_play)\n",
    "                return audio_play\n",
    "            except sr.UnknownValueError: \n",
    "                print(\"Google Speech Recognition could not understand audio\") \n",
    "\n",
    "            except sr.RequestError as e: \n",
    "                print(\"Could not request results from Google Speech Recognition service; {0}\".format(e))\n",
    "\n",
    "    except sr.WaitTimeoutError:\n",
    "        print('Please issue a voice command.')"
   ]
  },
  {
   "cell_type": "code",
   "execution_count": 151,
   "metadata": {},
   "outputs": [
    {
     "name": "stdout",
     "output_type": "stream",
     "text": [
      "you said: Pikachu\n"
     ]
    }
   ],
   "source": [
    "rec_z()"
   ]
  },
  {
   "cell_type": "code",
   "execution_count": null,
   "metadata": {},
   "outputs": [],
   "source": []
  },
  {
   "cell_type": "code",
   "execution_count": null,
   "metadata": {},
   "outputs": [],
   "source": []
  },
  {
   "cell_type": "code",
   "execution_count": null,
   "metadata": {},
   "outputs": [],
   "source": []
  }
 ],
 "metadata": {
  "kernelspec": {
   "display_name": "Python 3",
   "language": "python",
   "name": "python3"
  },
  "language_info": {
   "codemirror_mode": {
    "name": "ipython",
    "version": 3
   },
   "file_extension": ".py",
   "mimetype": "text/x-python",
   "name": "python",
   "nbconvert_exporter": "python",
   "pygments_lexer": "ipython3",
   "version": "3.7.3"
  }
 },
 "nbformat": 4,
 "nbformat_minor": 2
}
