{
 "cells": [
  {
   "cell_type": "code",
   "execution_count": 1,
   "metadata": {},
   "outputs": [],
   "source": [
    "import speech_recognition as sr\n",
    "import pyaudio"
   ]
  },
  {
   "cell_type": "code",
   "execution_count": 2,
   "metadata": {},
   "outputs": [],
   "source": [
    "r = sr.Recognizer()"
   ]
  },
  {
   "cell_type": "code",
   "execution_count": 3,
   "metadata": {},
   "outputs": [],
   "source": [
    "mic = sr.Microphone()"
   ]
  },
  {
   "cell_type": "code",
   "execution_count": 4,
   "metadata": {},
   "outputs": [
    {
     "data": {
      "text/plain": [
       "['Microsoft Sound Mapper - Input',\n",
       " 'Microphone (Logitech USB Microp',\n",
       " 'Microphone Array (Realtek High ',\n",
       " 'Microsoft Sound Mapper - Output',\n",
       " 'Speakers (Realtek High Definiti',\n",
       " 'Headset Microphone (Realtek HD Audio Mic input)',\n",
       " 'Speakers 1 (Realtek HD Audio output with SST)',\n",
       " 'Speakers 2 (Realtek HD Audio output with SST)',\n",
       " 'PC Speaker (Realtek HD Audio output with SST)',\n",
       " 'Microphone Array (Realtek HD Audio Mic Array input)',\n",
       " 'Headphones 1 (Realtek HD Audio 2nd output with SST)',\n",
       " 'Headphones 2 (Realtek HD Audio 2nd output with SST)',\n",
       " 'PC Speaker (Realtek HD Audio 2nd output with SST)',\n",
       " 'Output (@System32\\\\drivers\\\\bthhfenum.sys,#4;%1 Hands-Free HF Audio%0\\r\\n;(Andrew’s iPhone))',\n",
       " 'Input (@System32\\\\drivers\\\\bthhfenum.sys,#4;%1 Hands-Free HF Audio%0\\r\\n;(Andrew’s iPhone))',\n",
       " 'Microphone (Logitech USB Microphone)']"
      ]
     },
     "execution_count": 4,
     "metadata": {},
     "output_type": "execute_result"
    }
   ],
   "source": [
    "sr.Microphone.list_microphone_names()"
   ]
  },
  {
   "cell_type": "code",
   "execution_count": 5,
   "metadata": {},
   "outputs": [],
   "source": [
    "mic = sr.Microphone(device_index=0)"
   ]
  },
  {
   "cell_type": "code",
   "execution_count": 6,
   "metadata": {},
   "outputs": [],
   "source": [
    "with mic as source:\n",
    "    r.adjust_for_ambient_noise(source)\n",
    "    audio = r.listen(source)\n"
   ]
  },
  {
   "cell_type": "code",
   "execution_count": null,
   "metadata": {},
   "outputs": [],
   "source": [
    "r.recognize_google(audio)"
   ]
  },
  {
   "cell_type": "code",
   "execution_count": null,
   "metadata": {},
   "outputs": [],
   "source": [
    "# import wave\n",
    "# CHUNK = 1024\n",
    "# FORMAT = pyaudio.paInt16\n",
    "# CHANNELS = 2\n",
    "# RATE = 44100\n",
    "# RECORD_SECONDS = 5\n",
    "# WAVE_OUTPUT_FILENAME = \"voice.wav\"\n",
    "\n",
    "# p = pyaudio.PyAudio()\n",
    "\n",
    "# stream = p.open(format=FORMAT,\n",
    "#                 channels=CHANNELS,\n",
    "#                 rate=RATE,\n",
    "#                 input=True,\n",
    "#                 frames_per_buffer=CHUNK)\n",
    "\n",
    "# print(\"* recording\")\n",
    "\n",
    "# frames = []\n",
    "\n",
    "# for i in range(0, int(RATE / CHUNK * RECORD_SECONDS)):\n",
    "#     data = stream.read(CHUNK)\n",
    "#     frames.append(data)\n",
    "\n",
    "# print(\"* done recording\")\n",
    "\n",
    "# stream.stop_stream()\n",
    "# stream.close()\n",
    "# p.terminate()\n",
    "\n",
    "# wf = wave.open(WAVE_OUTPUT_FILENAME, 'wb')\n",
    "# wf.setnchannels(CHANNELS)\n",
    "# wf.setsampwidth(p.get_sample_size(FORMAT))\n",
    "# wf.setframerate(RATE)\n",
    "# wf.writeframes(b''.join(frames))\n",
    "# wf.close()"
   ]
  },
  {
   "cell_type": "code",
   "execution_count": 7,
   "metadata": {},
   "outputs": [],
   "source": [
    "def rec(): \n",
    "    try:\n",
    "        with mic as source:\n",
    "            r.adjust_for_ambient_noise(source)\n",
    "            audio = r.listen(source)\n",
    "        audio_play = r.recognize_google(audio)\n",
    "        return audio_play\n",
    "    except:\n",
    "        print(\"Your pokemon didn't hear you, please try again\")"
   ]
  },
  {
   "cell_type": "code",
   "execution_count": null,
   "metadata": {},
   "outputs": [],
   "source": [
    "rec()"
   ]
  },
  {
   "cell_type": "code",
   "execution_count": null,
   "metadata": {},
   "outputs": [],
   "source": [
    "def move(name, move):\n",
    "    movelist = ['thundershock', 'thunderbolt', 'splash']\n",
    "    if move in movelist:\n",
    "#         try:\n",
    "        print(f'{name} used {move}.')\n",
    "#         except:\n",
    "    else:\n",
    "        print(f\"Please format your command using '(Pokemon) used (move)'\")"
   ]
  },
  {
   "cell_type": "code",
   "execution_count": null,
   "metadata": {},
   "outputs": [],
   "source": [
    "def test(): \n",
    "    audio_play = rec()\n",
    "    audio_list = audio_play.split()\n",
    "#     for audios in audio_play: audio_list.append(audios)\n",
    "    print (audio_list)\n",
    "    attack = move(audio_list[0], audio_list[2])\n",
    "    return attack"
   ]
  },
  {
   "cell_type": "code",
   "execution_count": null,
   "metadata": {},
   "outputs": [],
   "source": [
    "test()"
   ]
  },
  {
   "cell_type": "code",
   "execution_count": null,
   "metadata": {},
   "outputs": [],
   "source": [
    "temp_moves = ['thundershock','quick attack', 'splash']"
   ]
  },
  {
   "cell_type": "code",
   "execution_count": null,
   "metadata": {},
   "outputs": [],
   "source": [
    "sen_test = 'Pikachu I want you to use magimagikarp splashuuu you'\n",
    "sen_test"
   ]
  },
  {
   "cell_type": "code",
   "execution_count": null,
   "metadata": {},
   "outputs": [],
   "source": [
    "sen_split = sen_test.split('use')\n",
    "sen_split"
   ]
  },
  {
   "cell_type": "code",
   "execution_count": null,
   "metadata": {},
   "outputs": [],
   "source": [
    "sen2 = sen_split[1].split()\n",
    "sen2"
   ]
  },
  {
   "cell_type": "code",
   "execution_count": null,
   "metadata": {},
   "outputs": [],
   "source": [
    "def test2(sentence):\n",
    "#     audio_play = rec()\n",
    "#     audio_list = audio_play.split()\n",
    "#     print (audio_list)\n",
    "    print(sentence)\n",
    "    temp_moves = ['thundershock','quick attack', 'splash', 'thunderbolt']\n",
    "    for i in range(0, len(sentence)):\n",
    "        try: \n",
    "            if sentence[i] in temp_moves:\n",
    "                print(sentence[i])\n",
    "                break\n",
    "            elif sentence[i]+\" \"+sentence[i+1] in temp_moves:\n",
    "                print(sentence[i]+\" \"+sentence[i+1])\n",
    "                break\n",
    "        except:\n",
    "            print('Please try again, pokemon does not understand you.')\n",
    "            break\n",
    "    \n",
    "test2(sen2)"
   ]
  },
  {
   "cell_type": "code",
   "execution_count": null,
   "metadata": {},
   "outputs": [],
   "source": [
    "def test2():\n",
    "    try:\n",
    "        audio_play = rec().lower()\n",
    "        audio_list = audio_play.split('use')\n",
    "        audio_sample = audio_list[1]\n",
    "        sentence = audio_sample.split()\n",
    "        \n",
    "\n",
    "        temp_moves = ['thundershock','quick attack', 'splash', 'thunderbolt']\n",
    "        for i in range(0, len(sentence)):\n",
    "            try: \n",
    "                if sentence[i] in temp_moves:\n",
    "                    print(sentence[i])\n",
    "                    break\n",
    "                elif sentence[i]+\" \"+sentence[i+1] in temp_moves:\n",
    "                    print(sentence[i]+\" \"+sentence[i+1])\n",
    "                    break\n",
    "            except:\n",
    "                print('Please try again, pokemon does not understand you. Say \"use [move name here]\"')\n",
    "                break\n",
    "    except:\n",
    "        print('Please try again, pokemon does not understand you. Say \"use [move name here]\"')\n",
    "\n",
    "    \n",
    "test2()"
   ]
  },
  {
   "cell_type": "code",
   "execution_count": 11,
   "metadata": {},
   "outputs": [],
   "source": [
    "pokemon_list = [\n",
    "{'name':'pikachu','stats': {'health':3,'attack':1,'defense':1,'speed':1,'current_health':3}, \n",
    " 'moves':[{'name':'thundershock','power':1,'type':'electric'},{'name':'quick attack','power':1,'type':'normal'},{'name':'thunderbolt','power':1,'type':'electric'},{'name':'iron tail','power':1,'type':'steel'}],},\n",
    "{'name':'mewtwo','stats':{'health':3,'attack':1,'defense':1,'speed':1,'current_health':3},\n",
    " 'moves':[{'name':'psychic','power':1,'type':'psychic'},{'name':'swift','power':1,'type':'normal'},{'name':'recover','power':1,'type':'psychic'},{'name':'psybeam','power':1,'type':'psychic'}],},\n",
    "{'name':'charizard','stats':{'health':3,'attack':1,'defense':1,'speed':1,'current_health':3},\n",
    " 'moves':[{'name':'fire blast','power':1,'type':'fire'},{'name':'slash','power':1,'type':'normal'},{'name':'flamethrower','power':1,'type':'fire'},{'name':'steel wing','power':1,'type':'steel'}],},\n",
    "{'name':'vensausaur','stats':{'health':3,'attack':1,'defense':1,'speed':1,'current_health':3},\n",
    " 'moves':[{'name':'solar beam','power':1,'type':'grass'},{'name':'razor leaf','power':1,'type':'grass'},{'name':'take down','power':1,'type':'normal'},{'name':'earthquake','power':1,'type':'ground'}],},\n",
    "{'name':'blastoise','stats':{'health':3,'attack':1,'defense':1,'speed':1,'current_health':3},\n",
    " 'moves':[{'name':'surf','power':1,'type':'water'},{'name':'hydro pump','power':1,'type':'water'},{'name':'strength','power':1,'type':'normal'},{'name':'water gun','power':1,'type':'water'}],},\n",
    "{'name':'eevee','stats':{'health':3,'attack':1,'defense':1,'speed':1,'current_health':3},\n",
    " 'moves':[{'name':'quick attack','power':1,'type':'normal'},{'name':'swift','power':1,'type':'normal'},{'name':'take down','power':1,'type':'normal'},{'name':'last resort','power':1,'type':'normal'}],},\n",
    "{'name':'onyx','stats':{'health':3,'attack':1,'defense':1,'speed':1,'current_health':3},\n",
    " 'moves':[{'name':'dig','power':1,'type':'ground'},{'name':'iron tail','power':1,'type':'steel'},{'name':'stone edge','power':1,'type':'rock'},{'name':'slam','power':1,'type':'normal'}],},\n",
    "{'name':'alakazam','stats':{'health':3,'attack':1,'defense':1,'speed':1,'current_health':3},\n",
    " 'moves':[{'name':'psybeam','power':1,'type':'psychic'},{'name':'recover','power':1,'type':'normal'},{'name':'psychic','power':1,'type':'psychic'},{'name':'night shade','power':1,'type':'ghost'}],},\n",
    "{'name':'gengar','stats':{'health':3,'attack':1,'defense':1,'speed':1,'current_health':3},\n",
    " 'moves':[{'name':'shadow ball','power':1,'type':'ghost'},{'name':'dark pulse','power':1,'type':'dark'},{'name':'hypnosis','power':1,'type':'normal'},{'name':'dream eater','power':1,'type':'ghost'}],},\n",
    "{'name':'nidoqueen','stats':{'health':3,'attack':1,'defense':1,'speed':1,'current_health':3},\n",
    " 'moves':[{'name':'body slam','power':1,'type':'normal'},{'name':'super power','power':1,'type':'fighting'},{'name':'counter','power':1,'type':'fighting'},{'name':'dragon tail','power':1,'type':'dragon'}],},\n",
    "{'name':'machamp','stats':{'health':3,'attack':1,'defense':1,'speed':1,'current_health':3},\n",
    " 'moves':[{'name':'cross chop','power':1,'type':'fighting'},{'name':'dynamic punch','power':1,'type':'fighting'},{'name':'seismic toss','power':1,'type':'fighting'},{'name':'dual chop','power':1,'type':'dragon'}],},\n",
    "]\n",
    "\n"
   ]
  },
  {
   "cell_type": "code",
   "execution_count": 12,
   "metadata": {},
   "outputs": [
    {
     "name": "stdout",
     "output_type": "stream",
     "text": [
      "pikachu\n",
      "--------------\n",
      "\n",
      "{'name': 'pikachu', 'stats': {'health': 3, 'attack': 1, 'defense': 1, 'speed': 1, 'current_health': 3}, 'moves': [{'name': 'thundershock', 'power': 1, 'type': 'electric'}, {'name': 'quick attack', 'power': 1, 'type': 'normal'}, {'name': 'thunderbolt', 'power': 1, 'type': 'electric'}, {'name': 'iron tail', 'power': 1, 'type': 'steel'}]}\n",
      "---------------\n",
      "mewtwo\n",
      "--------------\n",
      "\n",
      "charizard\n",
      "--------------\n",
      "\n",
      "vensausaur\n",
      "--------------\n",
      "\n",
      "blastoise\n",
      "--------------\n",
      "\n",
      "eevee\n",
      "--------------\n",
      "\n",
      "onyx\n",
      "--------------\n",
      "\n",
      "alakazam\n",
      "--------------\n",
      "\n",
      "gengar\n",
      "--------------\n",
      "\n",
      "nidoqueen\n",
      "--------------\n",
      "\n",
      "machamp\n",
      "--------------\n",
      "\n"
     ]
    }
   ],
   "source": [
    "for pokemon in pokemon_list:\n",
    "    print(pokemon['name'])\n",
    "    print('--------------')\n",
    "    print()\n",
    "    if pokemon['name'] == \"pikachu\":\n",
    "        print(pokemon)\n",
    "        print('---------------')"
   ]
  },
  {
   "cell_type": "code",
   "execution_count": null,
   "metadata": {},
   "outputs": [],
   "source": []
  },
  {
   "cell_type": "code",
   "execution_count": null,
   "metadata": {},
   "outputs": [],
   "source": [
    "def dict_test():\n",
    "\n",
    "    try:\n",
    "        # Record in '(Pokemon Name) use (move)' format\n",
    "        audio_play = rec().lower()\n",
    "        audio_list = audio_play.split(' use')\n",
    "        \n",
    "        print(audio_play)\n",
    "        print('---------')\n",
    "    \n",
    "        #audio_sample = audio_list[1]\n",
    "        pokemon_name = audio_list[0].lower()\n",
    "#         .split()\n",
    "#         pokemon_name = pokemon_n[0]\n",
    "        pokemon_moves = audio_list[1]\n",
    "        \n",
    "        sentence = pokemon_moves.split()\n",
    "        temp_moves = []\n",
    "        # check if pokemon_name in pokemon database\n",
    "        flag = False    #check to see if pokemon_name is found\n",
    "        for pokemon in pokemon_list:\n",
    "#             print(pokemon['name'])\n",
    "            if pokemon['name'] == pokemon_name:\n",
    "                flag = True\n",
    "                temp_moves.append(pokemon['moves'])   # becomes our movelist\n",
    "                print(\"true\")\n",
    "        \n",
    "        if flag == False:\n",
    "            print(\"Sorry, we couldn't find your pokemon\", pokemon_name)\n",
    "        \n",
    "#         print(temp_moves)\n",
    "        #temp_moves = ['thundershock','quick attack', 'splash', 'thunderbolt']\n",
    "        print(sentence)\n",
    "        for i in range(0, len(sentence)):\n",
    "            print(sentence[i])\n",
    "            try: \n",
    "                temp_moves = temp_moves[0]\n",
    "                print(temp_moves)\n",
    "                for moves in temp_moves:\n",
    "                    print(moves)\n",
    "                    if moves['name'] == sentence[i]:\n",
    "                        print(sentence[i])\n",
    "                        break\n",
    "                    elif sentence[i]+\" \"+sentence[i+1] in temp_moves:\n",
    "                        print(sentence[i]+\" \"+sentence[i+1])\n",
    "                        break\n",
    "            except IndexError:\n",
    "                print('Please try again, pokemon does not understand you. Say \"use [move name here]\"')\n",
    "                break\n",
    "    except IndexError:\n",
    "        print('Please try again, pokemon does not understand you. Say \"use [move name here]\"')\n",
    "\n",
    "    \n",
    "\n",
    "dict_test()"
   ]
  },
  {
   "cell_type": "code",
   "execution_count": 13,
   "metadata": {},
   "outputs": [
    {
     "name": "stdout",
     "output_type": "stream",
     "text": [
      "pikachu used iron tail! It did 1 damage, just because.\n"
     ]
    }
   ],
   "source": [
    "def dict_test2():\n",
    "\n",
    "    try:\n",
    "        # Record in '(Pokemon Name) use (move)' format\n",
    "        audio_play = rec().lower()\n",
    "        audio_list = audio_play.split(' use')\n",
    "        \n",
    "#         print(audio_play)\n",
    "#         print('---------')\n",
    "\n",
    "        pokemon_name = audio_list[0].lower()\n",
    "\n",
    "        move_audio = audio_list[1]\n",
    "\n",
    "        # check if pokemon_name in pokemon database\n",
    "        flag = False    #check to see if pokemon_name is found\n",
    "        for pokemon in pokemon_list:\n",
    "\n",
    "            if pokemon['name'] == pokemon_name:\n",
    "                flag = True\n",
    "                temp_moves = pokemon['moves']   # becomes our movelist\n",
    "                choose_name = pokemon['name']\n",
    "        \n",
    "        if flag == False:\n",
    "            print(\"Sorry, we couldn't find your pokemon\", pokemon_name)\n",
    "        \n",
    "#         print(temp_moves)\n",
    "#         print ('-------------- \\n')\n",
    "        \n",
    "        for mvs in temp_moves:\n",
    "            if mvs['name'] in move_audio:\n",
    "#                 print(mvs)\n",
    "                choose_move = mvs['name']\n",
    "               \n",
    "                \n",
    "        print(f'{choose_name} used {choose_move}! It did 1 damage, just because.')\n",
    "    \n",
    "    except IndexError:\n",
    "        print('Please try again, pokemon does not understand you. Say \"use [move name here]\"')\n",
    "\n",
    "    \n",
    "\n",
    "dict_test2()"
   ]
  },
  {
   "cell_type": "code",
   "execution_count": null,
   "metadata": {},
   "outputs": [],
   "source": []
  }
 ],
 "metadata": {
  "kernelspec": {
   "display_name": "Python 3",
   "language": "python",
   "name": "python3"
  },
  "language_info": {
   "codemirror_mode": {
    "name": "ipython",
    "version": 3
   },
   "file_extension": ".py",
   "mimetype": "text/x-python",
   "name": "python",
   "nbconvert_exporter": "python",
   "pygments_lexer": "ipython3",
   "version": "3.7.3"
  }
 },
 "nbformat": 4,
 "nbformat_minor": 2
}
