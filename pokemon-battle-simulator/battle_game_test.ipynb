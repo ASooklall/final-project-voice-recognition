{
 "cells": [
  {
   "cell_type": "code",
   "execution_count": 17,
   "metadata": {},
   "outputs": [],
   "source": [
    "import speech_recognition as sr\n",
    "import pyaudio, pygame, thorpy"
   ]
  },
  {
   "cell_type": "code",
   "execution_count": 18,
   "metadata": {},
   "outputs": [],
   "source": [
    "pokemon_list = [\n",
    "{'name':'pikachu','stats': {'health':3,'attack':1,'defense':1,'speed':1,'current_health':3}, \n",
    " 'moves':[{'name':'thundershock','power':1,'type':'electric'},{'name':'quick attack','power':1,'type':'normal'},{'name':'thunderbolt','power':1,'type':'electric'},{'name':'iron tail','power':1,'type':'steel'}],},\n",
    "{'name':'mewtwo','stats':{'health':3,'attack':1,'defense':1,'speed':1,'current_health':3},\n",
    " 'moves':[{'name':'psychic','power':1,'type':'psychic'},{'name':'swift','power':1,'type':'normal'},{'name':'recover','power':1,'type':'psychic'},{'name':'psybeam','power':1,'type':'psychic'}],},\n",
    "{'name':'charizard','stats':{'health':3,'attack':1,'defense':1,'speed':1,'current_health':3},\n",
    " 'moves':[{'name':'fire blast','power':1,'type':'fire'},{'name':'slash','power':1,'type':'normal'},{'name':'flamethrower','power':1,'type':'fire'},{'name':'steel wing','power':1,'type':'steel'}],},\n",
    "{'name':'vensausaur','stats':{'health':3,'attack':1,'defense':1,'speed':1,'current_health':3},\n",
    " 'moves':[{'name':'solar beam','power':1,'type':'grass'},{'name':'razor leaf','power':1,'type':'grass'},{'name':'take down','power':1,'type':'normal'},{'name':'earthquake','power':1,'type':'ground'}],},\n",
    "{'name':'blastoise','stats':{'health':3,'attack':1,'defense':1,'speed':1,'current_health':3},\n",
    " 'moves':[{'name':'surf','power':1,'type':'water'},{'name':'hydro pump','power':1,'type':'water'},{'name':'strength','power':1,'type':'normal'},{'name':'water gun','power':1,'type':'water'}],},\n",
    "{'name':'eevee','stats':{'health':3,'attack':1,'defense':1,'speed':1,'current_health':3},\n",
    " 'moves':[{'name':'quick attack','power':1,'type':'normal'},{'name':'swift','power':1,'type':'normal'},{'name':'take down','power':1,'type':'normal'},{'name':'last resort','power':1,'type':'normal'}],},\n",
    "{'name':'onyx','stats':{'health':3,'attack':1,'defense':1,'speed':1,'current_health':3},\n",
    " 'moves':[{'name':'dig','power':1,'type':'ground'},{'name':'iron tail','power':1,'type':'steel'},{'name':'stone edge','power':1,'type':'rock'},{'name':'slam','power':1,'type':'normal'}],},\n",
    "{'name':'alakazam','stats':{'health':3,'attack':1,'defense':1,'speed':1,'current_health':3},\n",
    " 'moves':[{'name':'psybeam','power':1,'type':'psychic'},{'name':'recover','power':1,'type':'normal'},{'name':'psychic','power':1,'type':'psychic'},{'name':'night shade','power':1,'type':'ghost'}],},\n",
    "{'name':'gengar','stats':{'health':3,'attack':1,'defense':1,'speed':1,'current_health':3},\n",
    " 'moves':[{'name':'shadow ball','power':1,'type':'ghost'},{'name':'dark pulse','power':1,'type':'dark'},{'name':'hypnosis','power':1,'type':'normal'},{'name':'dream eater','power':1,'type':'ghost'}],},\n",
    "{'name':'nidoqueen','stats':{'health':3,'attack':1,'defense':1,'speed':1,'current_health':3},\n",
    " 'moves':[{'name':'body slam','power':1,'type':'normal'},{'name':'super power','power':1,'type':'fighting'},{'name':'counter','power':1,'type':'fighting'},{'name':'dragon tail','power':1,'type':'dragon'}],},\n",
    "{'name':'machamp','stats':{'health':3,'attack':1,'defense':1,'speed':1,'current_health':3},\n",
    " 'moves':[{'name':'cross chop','power':1,'type':'fighting'},{'name':'dynamic punch','power':1,'type':'fighting'},{'name':'seismic toss','power':1,'type':'fighting'},{'name':'dual chop','power':1,'type':'dragon'}],},\n",
    "]\n",
    "\n"
   ]
  },
  {
   "cell_type": "code",
   "execution_count": 19,
   "metadata": {},
   "outputs": [],
   "source": [
    "# assign global test variables\n",
    "global pkmn1, pkmn2, mvnm1, mvnm2"
   ]
  },
  {
   "cell_type": "code",
   "execution_count": 20,
   "metadata": {},
   "outputs": [],
   "source": [
    "def rec_z():\n",
    "    try:\n",
    "        rt = sr.Recognizer()\n",
    "        mic = sr.Microphone(device_index=0)\n",
    "        with mic as source:\n",
    "    #         rt.adjust_for_ambient_noise(source)\n",
    "            rt.energy_threshold = 3000\n",
    "            rt.dynamic_energy_threshold = True\n",
    "            rt.adjust_for_ambient_noise(source, duration = 0.6)\n",
    "            audio = rt.listen(source, timeout = 2)\n",
    "            try: \n",
    "                audio_play = rt.recognize_google(audio) \n",
    "                print(\"you said: \" + audio_play)\n",
    "                return audio_play\n",
    "            except sr.UnknownValueError: \n",
    "                print(\"Google Speech Recognition could not understand audio\") \n",
    "\n",
    "            except sr.RequestError as e: \n",
    "                print(\"Could not request results from Google Speech Recognition service; {0}\".format(e))\n",
    "\n",
    "    except sr.WaitTimeoutError:\n",
    "        print('Please issue a voice command.')"
   ]
  },
  {
   "cell_type": "code",
   "execution_count": 21,
   "metadata": {},
   "outputs": [
    {
     "name": "stdout",
     "output_type": "stream",
     "text": [
      "you said: Pikachu use iron tail\n",
      "pikachu used iron tail! It did 1 damage, just because. \n",
      "\n",
      "{'name': 'pikachu', 'stats': {'health': 3, 'attack': 1, 'defense': 1, 'speed': 1, 'current_health': 3}, 'moves': [{'name': 'thundershock', 'power': 1, 'type': 'electric'}, {'name': 'quick attack', 'power': 1, 'type': 'normal'}, {'name': 'thunderbolt', 'power': 1, 'type': 'electric'}, {'name': 'iron tail', 'power': 1, 'type': 'steel'}]}\n",
      "\n",
      "{'name': 'iron tail', 'power': 1, 'type': 'steel'}\n"
     ]
    }
   ],
   "source": [
    "def dict_test2():\n",
    "\n",
    "    try:\n",
    "        # Record in '(Pokemon Name) use (move)' format\n",
    "        audio_play = rec_z().lower()\n",
    "        audio_list = audio_play.split(' use')\n",
    "        \n",
    "#         print(audio_play)\n",
    "#         print('---------')\n",
    "\n",
    "        pokemon_name = audio_list[0].lower()\n",
    "\n",
    "        move_audio = audio_list[1]\n",
    "\n",
    "        # check if pokemon_name in pokemon database\n",
    "        flag = False    #check to see if pokemon_name is found\n",
    "        for pokemon in pokemon_list:\n",
    "\n",
    "            if pokemon['name'] == pokemon_name:\n",
    "                flag = True\n",
    "                temp_moves = pokemon['moves']   # becomes our movelist\n",
    "                choose_pokemon = pokemon\n",
    "                choose_pokemon_name = pokemon['name']\n",
    "                pkmn1 = choose_pokemon_name #test\n",
    "        \n",
    "        if flag == False:\n",
    "            print(\"Sorry, we couldn't find your pokemon\", pokemon_name)\n",
    "        \n",
    "#         print(temp_moves)\n",
    "#         print ('-------------- \\n')\n",
    "        \n",
    "        for mvs in temp_moves:\n",
    "            if mvs['name'] in move_audio:\n",
    "#                 print(mvs)\n",
    "                choose_move = mvs\n",
    "                choose_move_name = mvs['name']\n",
    "                mvnm1 = choose_move_name #test\n",
    "                \n",
    "        print(f'{choose_pokemon_name} used {choose_move_name}! It did 1 damage, just because. \\n\\n{choose_pokemon}\\n\\n{choose_move}')\n",
    "    \n",
    "    except IndexError:\n",
    "        print('Please try again, pokemon does not understand you. Say \"use [move name here]\"')\n",
    "\n",
    "    \n",
    "\n",
    "dict_test2()"
   ]
  },
  {
   "cell_type": "code",
   "execution_count": 22,
   "metadata": {},
   "outputs": [
    {
     "ename": "NameError",
     "evalue": "name 'pkmn1' is not defined",
     "output_type": "error",
     "traceback": [
      "\u001b[1;31m---------------------------------------------------------------------------\u001b[0m",
      "\u001b[1;31mNameError\u001b[0m                                 Traceback (most recent call last)",
      "\u001b[1;32m<ipython-input-22-71b6d95ff130>\u001b[0m in \u001b[0;36m<module>\u001b[1;34m\u001b[0m\n\u001b[1;32m----> 1\u001b[1;33m \u001b[0mprint\u001b[0m \u001b[1;33m(\u001b[0m\u001b[0mpkmn1\u001b[0m\u001b[1;33m)\u001b[0m\u001b[1;33m\u001b[0m\u001b[1;33m\u001b[0m\u001b[0m\n\u001b[0m",
      "\u001b[1;31mNameError\u001b[0m: name 'pkmn1' is not defined"
     ]
    }
   ],
   "source": [
    "print (pkmn1)"
   ]
  },
  {
   "cell_type": "code",
   "execution_count": null,
   "metadata": {},
   "outputs": [],
   "source": []
  },
  {
   "cell_type": "code",
   "execution_count": null,
   "metadata": {},
   "outputs": [],
   "source": []
  },
  {
   "cell_type": "code",
   "execution_count": null,
   "metadata": {},
   "outputs": [],
   "source": []
  }
 ],
 "metadata": {
  "kernelspec": {
   "display_name": "Python 3",
   "language": "python",
   "name": "python3"
  },
  "language_info": {
   "codemirror_mode": {
    "name": "ipython",
    "version": 3
   },
   "file_extension": ".py",
   "mimetype": "text/x-python",
   "name": "python",
   "nbconvert_exporter": "python",
   "pygments_lexer": "ipython3",
   "version": "3.7.3"
  }
 },
 "nbformat": 4,
 "nbformat_minor": 2
}
