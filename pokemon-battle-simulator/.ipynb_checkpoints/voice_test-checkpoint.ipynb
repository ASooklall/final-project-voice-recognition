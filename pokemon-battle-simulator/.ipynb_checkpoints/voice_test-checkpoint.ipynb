{
 "cells": [
  {
   "cell_type": "code",
   "execution_count": 208,
   "metadata": {},
   "outputs": [],
   "source": [
    "# pip install SpeechRecognition"
   ]
  },
  {
   "cell_type": "code",
   "execution_count": 209,
   "metadata": {},
   "outputs": [],
   "source": [
    "import speech_recognition as sr\n",
    "import pyaudio"
   ]
  },
  {
   "cell_type": "code",
   "execution_count": 210,
   "metadata": {},
   "outputs": [],
   "source": [
    "r = sr.Recognizer()"
   ]
  },
  {
   "cell_type": "code",
   "execution_count": 211,
   "metadata": {},
   "outputs": [],
   "source": [
    "mic = sr.Microphone()"
   ]
  },
  {
   "cell_type": "code",
   "execution_count": 220,
   "metadata": {
    "scrolled": false
   },
   "outputs": [
    {
     "data": {
      "text/plain": [
       "['Microsoft Sound Mapper - Input',\n",
       " 'Microphone Array (Realtek High ',\n",
       " 'Microsoft Sound Mapper - Output',\n",
       " 'Speakers (Realtek High Definiti',\n",
       " 'Headset Microphone (Realtek HD Audio Mic input)',\n",
       " 'Speakers 1 (Realtek HD Audio output with SST)',\n",
       " 'Speakers 2 (Realtek HD Audio output with SST)',\n",
       " 'PC Speaker (Realtek HD Audio output with SST)',\n",
       " 'Microphone Array (Realtek HD Audio Mic Array input)',\n",
       " 'Headphones 1 (Realtek HD Audio 2nd output with SST)',\n",
       " 'Headphones 2 (Realtek HD Audio 2nd output with SST)',\n",
       " 'PC Speaker (Realtek HD Audio 2nd output with SST)',\n",
       " 'Output (@System32\\\\drivers\\\\bthhfenum.sys,#4;%1 Hands-Free HF Audio%0\\r\\n;(Andrew’s iPhone))',\n",
       " 'Input (@System32\\\\drivers\\\\bthhfenum.sys,#4;%1 Hands-Free HF Audio%0\\r\\n;(Andrew’s iPhone))']"
      ]
     },
     "execution_count": 220,
     "metadata": {},
     "output_type": "execute_result"
    }
   ],
   "source": [
    "sr.Microphone.list_microphone_names()"
   ]
  },
  {
   "cell_type": "code",
   "execution_count": 219,
   "metadata": {},
   "outputs": [],
   "source": [
    "mic = sr.Microphone(device_index=0)"
   ]
  },
  {
   "cell_type": "code",
   "execution_count": 49,
   "metadata": {},
   "outputs": [],
   "source": [
    "# with mic as source:\n",
    "#     r.adjust_for_ambient_noise(source)\n",
    "#     audio = r.listen(source)\n"
   ]
  },
  {
   "cell_type": "code",
   "execution_count": 50,
   "metadata": {},
   "outputs": [],
   "source": [
    "# r.recognize_google(audio)"
   ]
  },
  {
   "cell_type": "code",
   "execution_count": 51,
   "metadata": {},
   "outputs": [],
   "source": [
    "# import wave\n",
    "# CHUNK = 1024\n",
    "# FORMAT = pyaudio.paInt16\n",
    "# CHANNELS = 2\n",
    "# RATE = 44100\n",
    "# RECORD_SECONDS = 5\n",
    "# WAVE_OUTPUT_FILENAME = \"voice.wav\"\n",
    "\n",
    "# p = pyaudio.PyAudio()\n",
    "\n",
    "# stream = p.open(format=FORMAT,\n",
    "#                 channels=CHANNELS,\n",
    "#                 rate=RATE,\n",
    "#                 input=True,\n",
    "#                 frames_per_buffer=CHUNK)\n",
    "\n",
    "# print(\"* recording\")\n",
    "\n",
    "# frames = []\n",
    "\n",
    "# for i in range(0, int(RATE / CHUNK * RECORD_SECONDS)):\n",
    "#     data = stream.read(CHUNK)\n",
    "#     frames.append(data)\n",
    "\n",
    "# print(\"* done recording\")\n",
    "\n",
    "# stream.stop_stream()\n",
    "# stream.close()\n",
    "# p.terminate()\n",
    "\n",
    "# wf = wave.open(WAVE_OUTPUT_FILENAME, 'wb')\n",
    "# wf.setnchannels(CHANNELS)\n",
    "# wf.setsampwidth(p.get_sample_size(FORMAT))\n",
    "# wf.setframerate(RATE)\n",
    "# wf.writeframes(b''.join(frames))\n",
    "# wf.close()"
   ]
  },
  {
   "cell_type": "code",
   "execution_count": 64,
   "metadata": {},
   "outputs": [],
   "source": [
    "def rec(): \n",
    "    try:\n",
    "        with mic as source:\n",
    "            r.adjust_for_ambient_noise(source)\n",
    "            audio = r.listen(source)\n",
    "        audio_play = r.recognize_google(audio)\n",
    "        return audio_play\n",
    "    except:\n",
    "        print(\"Pikachu didn't hear you, please try again\")"
   ]
  },
  {
   "cell_type": "code",
   "execution_count": 65,
   "metadata": {},
   "outputs": [
    {
     "data": {
      "text/plain": [
       "'give me a call about stale'"
      ]
     },
     "execution_count": 65,
     "metadata": {},
     "output_type": "execute_result"
    }
   ],
   "source": [
    "rec()"
   ]
  },
  {
   "cell_type": "code",
   "execution_count": 99,
   "metadata": {},
   "outputs": [],
   "source": [
    "def move(name, move):\n",
    "    movelist = ['thundershock', 'thunderbolt', 'splash']\n",
    "    if move in movelist:\n",
    "#         try:\n",
    "        print(f'{name} used {move}.')\n",
    "#         except:\n",
    "    else:\n",
    "        print(f\"Please format your command using '(Pokemon) used (move)'\")"
   ]
  },
  {
   "cell_type": "code",
   "execution_count": 100,
   "metadata": {},
   "outputs": [],
   "source": [
    "def test(): \n",
    "    audio_play = rec()\n",
    "    audio_list = audio_play.split()\n",
    "#     for audios in audio_play: audio_list.append(audios)\n",
    "    print (audio_list)\n",
    "    attack = move(audio_list[0], audio_list[2])\n",
    "    return attack"
   ]
  },
  {
   "cell_type": "code",
   "execution_count": 108,
   "metadata": {},
   "outputs": [
    {
     "name": "stdout",
     "output_type": "stream",
     "text": [
      "['Charmander', 'used', 'weight', 'I', 'mean', 'thundershock']\n",
      "Please format your command using '(Pokemon) used (move)'\n"
     ]
    }
   ],
   "source": [
    "test()"
   ]
  },
  {
   "cell_type": "code",
   "execution_count": 124,
   "metadata": {},
   "outputs": [],
   "source": [
    "temp_moves = ['thundershock','quick attack', 'splash']"
   ]
  },
  {
   "cell_type": "code",
   "execution_count": 189,
   "metadata": {},
   "outputs": [
    {
     "data": {
      "text/plain": [
       "'Pikachu I want you to use magimagikarp splashuuu you'"
      ]
     },
     "execution_count": 189,
     "metadata": {},
     "output_type": "execute_result"
    }
   ],
   "source": [
    "sen_test = 'Pikachu I want you to use magimagikarp splashuuu you'\n",
    "sen_test"
   ]
  },
  {
   "cell_type": "code",
   "execution_count": 190,
   "metadata": {},
   "outputs": [
    {
     "data": {
      "text/plain": [
       "['Pikachu I want you to ', ' magimagikarp splashuuu you']"
      ]
     },
     "execution_count": 190,
     "metadata": {},
     "output_type": "execute_result"
    }
   ],
   "source": [
    "sen_split = sen_test.split('use')\n",
    "sen_split"
   ]
  },
  {
   "cell_type": "code",
   "execution_count": 191,
   "metadata": {},
   "outputs": [
    {
     "data": {
      "text/plain": [
       "['magimagikarp', 'splashuuu', 'you']"
      ]
     },
     "execution_count": 191,
     "metadata": {},
     "output_type": "execute_result"
    }
   ],
   "source": [
    "sen2 = sen_split[1].split()\n",
    "sen2"
   ]
  },
  {
   "cell_type": "code",
   "execution_count": 193,
   "metadata": {},
   "outputs": [
    {
     "name": "stdout",
     "output_type": "stream",
     "text": [
      "['magimagikarp', 'splashuuu', 'you']\n",
      "Please try again, pokemon does not understand you.\n"
     ]
    }
   ],
   "source": [
    "def test2(sentence):\n",
    "#     audio_play = rec()\n",
    "#     audio_list = audio_play.split()\n",
    "#     print (audio_list)\n",
    "    print(sentence)\n",
    "    temp_moves = ['thundershock','quick attack', 'splash', 'thunderbolt']\n",
    "    for i in range(0, len(sentence)):\n",
    "        try: \n",
    "            if sentence[i] in temp_moves:\n",
    "                print(sentence[i])\n",
    "                break\n",
    "            elif sentence[i]+\" \"+sentence[i+1] in temp_moves:\n",
    "                print(sentence[i]+\" \"+sentence[i+1])\n",
    "                break\n",
    "        except:\n",
    "            print('Please try again, pokemon does not understand you.')\n",
    "            break\n",
    "    \n",
    "test2(sen2)"
   ]
  },
  {
   "cell_type": "code",
   "execution_count": 241,
   "metadata": {},
   "outputs": [
    {
     "name": "stdout",
     "output_type": "stream",
     "text": [
      "thunderbolt\n"
     ]
    }
   ],
   "source": [
    "def test2():\n",
    "    try:\n",
    "        audio_play = rec().lower()\n",
    "        audio_list = audio_play.split('use')\n",
    "        audio_sample = audio_list[1]\n",
    "        sentence = audio_sample.split()\n",
    "        \n",
    "\n",
    "        temp_moves = ['thundershock','quick attack', 'splash', 'thunderbolt']\n",
    "        for i in range(0, len(sentence)):\n",
    "            try: \n",
    "                if sentence[i] in temp_moves:\n",
    "                    print(sentence[i])\n",
    "                    break\n",
    "                elif sentence[i]+\" \"+sentence[i+1] in temp_moves:\n",
    "                    print(sentence[i]+\" \"+sentence[i+1])\n",
    "                    break\n",
    "            except:\n",
    "                print('Please try again, pokemon does not understand you. Say \"use [move name here]\"')\n",
    "                break\n",
    "    except:\n",
    "        print('Please try again, pokemon does not understand you. Say \"use [move name here]\"')\n",
    "\n",
    "    \n",
    "test2()"
   ]
  },
  {
   "cell_type": "code",
   "execution_count": null,
   "metadata": {},
   "outputs": [],
   "source": []
  },
  {
   "cell_type": "code",
   "execution_count": null,
   "metadata": {},
   "outputs": [],
   "source": []
  }
 ],
 "metadata": {
  "kernelspec": {
   "display_name": "Python 3",
   "language": "python",
   "name": "python3"
  },
  "language_info": {
   "codemirror_mode": {
    "name": "ipython",
    "version": 3
   },
   "file_extension": ".py",
   "mimetype": "text/x-python",
   "name": "python",
   "nbconvert_exporter": "python",
   "pygments_lexer": "ipython3",
   "version": "3.7.3"
  }
 },
 "nbformat": 4,
 "nbformat_minor": 2
}
