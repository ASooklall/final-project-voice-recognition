{
 "cells": [
  {
   "cell_type": "code",
   "execution_count": 8,
   "metadata": {},
   "outputs": [
    {
     "name": "stdout",
     "output_type": "stream",
     "text": [
      "Requirement already satisfied: pygame in c:\\users\\xerod\\anaconda3\\lib\\site-packages (1.9.6)\n",
      "Note: you may need to restart the kernel to use updated packages.\n"
     ]
    }
   ],
   "source": [
    "pip install pygame"
   ]
  },
  {
   "cell_type": "code",
   "execution_count": 9,
   "metadata": {},
   "outputs": [
    {
     "name": "stdout",
     "output_type": "stream",
     "text": [
      "Collecting thorpy\n",
      "  Downloading thorpy-1.6.3-py2.py3-none-any.whl (420 kB)\n",
      "Installing collected packages: thorpy\n",
      "Successfully installed thorpy-1.6.3\n",
      "Note: you may need to restart the kernel to use updated packages.\n"
     ]
    }
   ],
   "source": [
    "pip install thorpy"
   ]
  },
  {
   "cell_type": "code",
   "execution_count": 5,
   "metadata": {},
   "outputs": [],
   "source": [
    "# import pygame, thorpy\n",
    "# pygame.init()\n",
    "# pygame.key.set_repeat(300, 30)\n",
    "# screen = pygame.display.set_mode((400,400))\n",
    "# screen.fill((255,255,255))\n",
    "# rect = pygame.Rect((0, 0, 50, 50))\n",
    "# rect.center = screen.get_rect().center\n",
    "# clock = pygame.time.Clock()\n",
    "\n",
    "# pygame.draw.rect(screen, (255,0,0), rect)\n",
    "# pygame.display.flip()\n",
    "\n",
    "# #when left arrow is pressed, the red rect goes to the left\n",
    "# playing_game = True\n",
    "# while playing_game:\n",
    "#     clock.tick(45)\n",
    "#     for event in pygame.event.get():\n",
    "#         if event.type == pygame.QUIT:\n",
    "#             playing_game = False\n",
    "#             break\n",
    "#         elif event.type == pygame.KEYDOWN:\n",
    "#             if event.key == pygame.K_LEFT:\n",
    "#                 pygame.draw.rect(screen, (255,255,255), rect)\n",
    "#                 pygame.display.update(rect)\n",
    "#                 rect.move_ip((-5,0))\n",
    "#                 pygame.draw.rect(screen, (255,0,0), rect)\n",
    "#                 pygame.display.update(rect)\n",
    "\n",
    "# pygame.quit()"
   ]
  },
  {
   "cell_type": "code",
   "execution_count": 10,
   "metadata": {},
   "outputs": [
    {
     "name": "stdout",
     "output_type": "stream",
     "text": [
      "pygame 1.9.6\n",
      "Hello from the pygame community. https://www.pygame.org/contribute.html\n"
     ]
    }
   ],
   "source": [
    "import pygame, thorpy"
   ]
  },
  {
   "cell_type": "code",
   "execution_count": 18,
   "metadata": {},
   "outputs": [],
   "source": [
    "pygame.init()\n",
    "pygame.key.set_repeat(300, 30)\n",
    "screen = pygame.display.set_mode((400,400))\n",
    "screen.fill((255,255,255))\n",
    "rect = pygame.Rect((0, 0, 50, 50))\n",
    "rect.center = screen.get_rect().center\n",
    "clock = pygame.time.Clock()\n",
    "\n",
    "pygame.draw.rect(screen, (255,0,0), rect)\n",
    "pygame.display.flip()\n",
    "\n",
    "#when left arrow is pressed, the red rect goes to the left\n",
    "playing_game = True\n",
    "while playing_game:\n",
    "    clock.tick(45)\n",
    "    for event in pygame.event.get():\n",
    "        if event.type == pygame.QUIT:\n",
    "            playing_game = False\n",
    "            break\n",
    "        elif event.type == pygame.KEYDOWN:\n",
    "            if event.key == pygame.K_LEFT:\n",
    "                pygame.draw.rect(screen, (255,255,255), rect)\n",
    "                pygame.display.update(rect)\n",
    "                rect.move_ip((-5,0))\n",
    "                pygame.draw.rect(screen, (255,0,0), rect)\n",
    "                pygame.display.update(rect)\n",
    "            elif event.key == pygame.K_RIGHT:\n",
    "                pygame.draw.rect(screen, (255,255,255), rect)\n",
    "                pygame.display.update(rect)\n",
    "                rect.move_ip((+5,0))\n",
    "                pygame.draw.rect(screen, (255,0,0), rect)\n",
    "                pygame.display.update(rect)\n",
    "            elif event.key == pygame.K_UP:\n",
    "                pygame.draw.rect(screen, (255,255,255), rect)\n",
    "                pygame.display.update(rect)\n",
    "                rect.move_ip((0,-5))\n",
    "                pygame.draw.rect(screen, (255,0,0), rect)\n",
    "                pygame.display.update(rect)\n",
    "            elif event.key == pygame.K_DOWN:\n",
    "                pygame.draw.rect(screen, (255,255,255), rect)\n",
    "                pygame.display.update(rect)\n",
    "                rect.move_ip((0,-5))\n",
    "                pygame.draw.rect(screen, (255,0,0), rect)\n",
    "                pygame.display.update(rect)\n",
    "\n",
    "pygame.quit()"
   ]
  },
  {
   "cell_type": "code",
   "execution_count": null,
   "metadata": {},
   "outputs": [],
   "source": []
  }
 ],
 "metadata": {
  "kernelspec": {
   "display_name": "Python 3",
   "language": "python",
   "name": "python3"
  },
  "language_info": {
   "codemirror_mode": {
    "name": "ipython",
    "version": 3
   },
   "file_extension": ".py",
   "mimetype": "text/x-python",
   "name": "python",
   "nbconvert_exporter": "python",
   "pygments_lexer": "ipython3",
   "version": "3.7.3"
  }
 },
 "nbformat": 4,
 "nbformat_minor": 2
}
