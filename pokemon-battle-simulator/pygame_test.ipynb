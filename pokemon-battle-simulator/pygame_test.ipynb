{
 "cells": [
  {
   "cell_type": "code",
   "execution_count": 2,
   "metadata": {},
   "outputs": [
    {
     "name": "stdout",
     "output_type": "stream",
     "text": [
      "Requirement already satisfied: pygame in c:\\users\\xerod\\anaconda3\\lib\\site-packages (1.9.6)\n",
      "Note: you may need to restart the kernel to use updated packages.\n"
     ]
    }
   ],
   "source": [
    "pip install pygame"
   ]
  },
  {
   "cell_type": "code",
   "execution_count": 3,
   "metadata": {},
   "outputs": [
    {
     "name": "stdout",
     "output_type": "stream",
     "text": [
      "Requirement already satisfied: thorpy in c:\\users\\xerod\\anaconda3\\lib\\site-packages (1.6.3)\n",
      "Note: you may need to restart the kernel to use updated packages.\n"
     ]
    }
   ],
   "source": [
    "pip install thorpy"
   ]
  },
  {
   "cell_type": "code",
   "execution_count": 5,
   "metadata": {},
   "outputs": [],
   "source": [
    "# import pygame, thorpy\n",
    "# pygame.init()\n",
    "# pygame.key.set_repeat(300, 30)\n",
    "# screen = pygame.display.set_mode((400,400))\n",
    "# screen.fill((255,255,255))\n",
    "# rect = pygame.Rect((0, 0, 50, 50))\n",
    "# rect.center = screen.get_rect().center\n",
    "# clock = pygame.time.Clock()\n",
    "\n",
    "# pygame.draw.rect(screen, (255,0,0), rect)\n",
    "# pygame.display.flip()\n",
    "\n",
    "# #when left arrow is pressed, the red rect goes to the left\n",
    "# playing_game = True\n",
    "# while playing_game:\n",
    "#     clock.tick(45)\n",
    "#     for event in pygame.event.get():\n",
    "#         if event.type == pygame.QUIT:\n",
    "#             playing_game = False\n",
    "#             break\n",
    "#         elif event.type == pygame.KEYDOWN:\n",
    "#             if event.key == pygame.K_LEFT:\n",
    "#                 pygame.draw.rect(screen, (255,255,255), rect)\n",
    "#                 pygame.display.update(rect)\n",
    "#                 rect.move_ip((-5,0))\n",
    "#                 pygame.draw.rect(screen, (255,0,0), rect)\n",
    "#                 pygame.display.update(rect)\n",
    "\n",
    "# pygame.quit()"
   ]
  },
  {
   "cell_type": "code",
   "execution_count": 1,
   "metadata": {},
   "outputs": [
    {
     "name": "stdout",
     "output_type": "stream",
     "text": [
      "pygame 1.9.6\n",
      "Hello from the pygame community. https://www.pygame.org/contribute.html\n"
     ]
    }
   ],
   "source": [
    "import pygame, thorpy"
   ]
  },
  {
   "cell_type": "code",
   "execution_count": 3,
   "metadata": {},
   "outputs": [],
   "source": [
    "pygame.init()\n",
    "pygame.key.set_repeat(300, 30)\n",
    "screen = pygame.display.set_mode((400,400))\n",
    "screen.fill((255,255,255))\n",
    "rect = pygame.Rect((0, 0, 50, 50))\n",
    "rect.center = screen.get_rect().center\n",
    "clock = pygame.time.Clock()\n",
    "\n",
    "pygame.draw.rect(screen, (255,0,0), rect)\n",
    "pygame.display.flip()\n",
    "\n",
    "#when left arrow is pressed, the red rect goes to the left\n",
    "playing_game = True\n",
    "while playing_game:\n",
    "    clock.tick(45)\n",
    "    for event in pygame.event.get():\n",
    "        if event.type == pygame.QUIT:\n",
    "            playing_game = False\n",
    "            break\n",
    "        elif event.type == pygame.KEYDOWN:\n",
    "            if event.key == pygame.K_LEFT:\n",
    "                pygame.draw.rect(screen, (255,255,255), rect)\n",
    "                pygame.display.update(rect)\n",
    "                rect.move_ip((-5,0))\n",
    "                pygame.draw.rect(screen, (255,0,0), rect)\n",
    "                pygame.display.update(rect)\n",
    "            elif event.key == pygame.K_RIGHT:\n",
    "                pygame.draw.rect(screen, (255,255,255), rect)\n",
    "                pygame.display.update(rect)\n",
    "                rect.move_ip((+5,0))\n",
    "                pygame.draw.rect(screen, (255,0,0), rect)\n",
    "                pygame.display.update(rect)\n",
    "            elif event.key == pygame.K_UP:\n",
    "                pygame.draw.rect(screen, (255,255,255), rect)\n",
    "                pygame.display.update(rect)\n",
    "                rect.move_ip((0,-5))\n",
    "                pygame.draw.rect(screen, (255,0,0), rect)\n",
    "                pygame.display.update(rect)\n",
    "            elif event.key == pygame.K_DOWN:\n",
    "                pygame.draw.rect(screen, (255,55,255), rect)\n",
    "                pygame.display.update(rect)\n",
    "                rect.move_ip((0,+5))\n",
    "                pygame.draw.rect(screen, (255,0,0), rect)\n",
    "                pygame.display.update(rect)\n",
    "\n",
    "pygame.quit()"
   ]
  },
  {
   "cell_type": "code",
   "execution_count": 9,
   "metadata": {},
   "outputs": [
    {
     "ename": "NameError",
     "evalue": "name 'exit' is not defined",
     "output_type": "error",
     "traceback": [
      "\u001b[1;31m---------------------------------------------------------------------------\u001b[0m",
      "\u001b[1;31mNameError\u001b[0m                                 Traceback (most recent call last)",
      "\u001b[1;32m<ipython-input-9-000214235a20>\u001b[0m in \u001b[0;36m<module>\u001b[1;34m\u001b[0m\n\u001b[0;32m     44\u001b[0m     \u001b[0mapplication\u001b[0m\u001b[1;33m.\u001b[0m\u001b[0mquit\u001b[0m\u001b[1;33m(\u001b[0m\u001b[1;33m)\u001b[0m\u001b[1;33m\u001b[0m\u001b[1;33m\u001b[0m\u001b[0m\n\u001b[0;32m     45\u001b[0m \u001b[1;33m\u001b[0m\u001b[0m\n\u001b[1;32m---> 46\u001b[1;33m \u001b[0mrun_application\u001b[0m\u001b[1;33m(\u001b[0m\u001b[1;33m)\u001b[0m\u001b[1;33m\u001b[0m\u001b[1;33m\u001b[0m\u001b[0m\n\u001b[0m",
      "\u001b[1;32m<ipython-input-9-000214235a20>\u001b[0m in \u001b[0;36mrun_application\u001b[1;34m()\u001b[0m\n\u001b[0;32m     41\u001b[0m \u001b[1;33m\u001b[0m\u001b[0m\n\u001b[0;32m     42\u001b[0m     \u001b[0mmenu\u001b[0m \u001b[1;33m=\u001b[0m \u001b[0mthorpy\u001b[0m\u001b[1;33m.\u001b[0m\u001b[0mMenu\u001b[0m\u001b[1;33m(\u001b[0m\u001b[0mbackground\u001b[0m\u001b[1;33m)\u001b[0m \u001b[1;31m#create a menu for auto events handling\u001b[0m\u001b[1;33m\u001b[0m\u001b[1;33m\u001b[0m\u001b[0m\n\u001b[1;32m---> 43\u001b[1;33m     \u001b[0mmenu\u001b[0m\u001b[1;33m.\u001b[0m\u001b[0mplay\u001b[0m\u001b[1;33m(\u001b[0m\u001b[1;33m)\u001b[0m \u001b[1;31m#launch the menu\u001b[0m\u001b[1;33m\u001b[0m\u001b[1;33m\u001b[0m\u001b[0m\n\u001b[0m\u001b[0;32m     44\u001b[0m     \u001b[0mapplication\u001b[0m\u001b[1;33m.\u001b[0m\u001b[0mquit\u001b[0m\u001b[1;33m(\u001b[0m\u001b[1;33m)\u001b[0m\u001b[1;33m\u001b[0m\u001b[1;33m\u001b[0m\u001b[0m\n\u001b[0;32m     45\u001b[0m \u001b[1;33m\u001b[0m\u001b[0m\n",
      "\u001b[1;32m~\\Anaconda3\\lib\\site-packages\\thorpy\\menus\\basicmenu.py\u001b[0m in \u001b[0;36mplay\u001b[1;34m(self, preblit)\u001b[0m\n\u001b[0;32m    158\u001b[0m                 \u001b[0mprint\u001b[0m\u001b[1;33m(\u001b[0m\u001b[0mself\u001b[0m\u001b[1;33m.\u001b[0m\u001b[0mclock\u001b[0m\u001b[1;33m.\u001b[0m\u001b[0mget_fps\u001b[0m\u001b[1;33m(\u001b[0m\u001b[1;33m)\u001b[0m\u001b[1;33m)\u001b[0m\u001b[1;33m\u001b[0m\u001b[1;33m\u001b[0m\u001b[0m\n\u001b[0;32m    159\u001b[0m             \u001b[0mself\u001b[0m\u001b[1;33m.\u001b[0m\u001b[0mclock_tick\u001b[0m\u001b[1;33m(\u001b[0m\u001b[0mself\u001b[0m\u001b[1;33m.\u001b[0m\u001b[0mfps\u001b[0m\u001b[1;33m)\u001b[0m\u001b[1;33m\u001b[0m\u001b[1;33m\u001b[0m\u001b[0m\n\u001b[1;32m--> 160\u001b[1;33m             \u001b[0mself\u001b[0m\u001b[1;33m.\u001b[0m\u001b[0mreact_to_all_events\u001b[0m\u001b[1;33m(\u001b[0m\u001b[1;33m)\u001b[0m\u001b[1;33m\u001b[0m\u001b[1;33m\u001b[0m\u001b[0m\n\u001b[0m\u001b[0;32m    161\u001b[0m \u001b[1;33m\u001b[0m\u001b[0m\n\u001b[0;32m    162\u001b[0m \u001b[1;33m\u001b[0m\u001b[0m\n",
      "\u001b[1;32m~\\Anaconda3\\lib\\site-packages\\thorpy\\menus\\tickedmenu.py\u001b[0m in \u001b[0;36mreact_to_all_events\u001b[1;34m(self)\u001b[0m\n\u001b[0;32m     20\u001b[0m         \u001b[0mself\u001b[0m\u001b[1;33m.\u001b[0m\u001b[0mpost_time_event\u001b[0m\u001b[1;33m(\u001b[0m\u001b[1;33m)\u001b[0m\u001b[1;33m\u001b[0m\u001b[1;33m\u001b[0m\u001b[0m\n\u001b[0;32m     21\u001b[0m         \u001b[1;32mfor\u001b[0m \u001b[0mevent\u001b[0m \u001b[1;32min\u001b[0m \u001b[0mpygame\u001b[0m\u001b[1;33m.\u001b[0m\u001b[0mevent\u001b[0m\u001b[1;33m.\u001b[0m\u001b[0mget\u001b[0m\u001b[1;33m(\u001b[0m\u001b[1;33m)\u001b[0m\u001b[1;33m:\u001b[0m\u001b[1;33m\u001b[0m\u001b[1;33m\u001b[0m\u001b[0m\n\u001b[1;32m---> 22\u001b[1;33m             \u001b[0mself\u001b[0m\u001b[1;33m.\u001b[0m\u001b[0mtreatement\u001b[0m\u001b[1;33m(\u001b[0m\u001b[0mevent\u001b[0m\u001b[1;33m)\u001b[0m\u001b[1;33m\u001b[0m\u001b[1;33m\u001b[0m\u001b[0m\n\u001b[0m\u001b[0;32m     23\u001b[0m \u001b[1;33m\u001b[0m\u001b[0m\n\u001b[0;32m     24\u001b[0m \u001b[1;32mdef\u001b[0m \u001b[0minteractive_pause\u001b[0m\u001b[1;33m(\u001b[0m\u001b[0mmax_time_in_seconds\u001b[0m\u001b[1;33m,\u001b[0m \u001b[0melement\u001b[0m\u001b[1;33m=\u001b[0m\u001b[1;32mNone\u001b[0m\u001b[1;33m,\u001b[0m \u001b[0mfps\u001b[0m\u001b[1;33m=\u001b[0m\u001b[1;36m45\u001b[0m\u001b[1;33m)\u001b[0m\u001b[1;33m:\u001b[0m\u001b[1;33m\u001b[0m\u001b[1;33m\u001b[0m\u001b[0m\n",
      "\u001b[1;32m~\\Anaconda3\\lib\\site-packages\\thorpy\\menus\\basicmenu.py\u001b[0m in \u001b[0;36mtreatement\u001b[1;34m(self, event)\u001b[0m\n\u001b[0;32m    132\u001b[0m             \u001b[0mpygame\u001b[0m\u001b[1;33m.\u001b[0m\u001b[0mfont\u001b[0m\u001b[1;33m.\u001b[0m\u001b[0mquit\u001b[0m\u001b[1;33m(\u001b[0m\u001b[1;33m)\u001b[0m\u001b[1;33m\u001b[0m\u001b[1;33m\u001b[0m\u001b[0m\n\u001b[0;32m    133\u001b[0m             \u001b[0mpygame\u001b[0m\u001b[1;33m.\u001b[0m\u001b[0mquit\u001b[0m\u001b[1;33m(\u001b[0m\u001b[1;33m)\u001b[0m\u001b[1;33m\u001b[0m\u001b[1;33m\u001b[0m\u001b[0m\n\u001b[1;32m--> 134\u001b[1;33m             \u001b[0mexit\u001b[0m\u001b[1;33m(\u001b[0m\u001b[1;33m)\u001b[0m\u001b[1;33m\u001b[0m\u001b[1;33m\u001b[0m\u001b[0m\n\u001b[0m\u001b[0;32m    135\u001b[0m         \u001b[1;32melse\u001b[0m\u001b[1;33m:\u001b[0m\u001b[1;33m\u001b[0m\u001b[1;33m\u001b[0m\u001b[0m\n\u001b[0;32m    136\u001b[0m             \u001b[0mself\u001b[0m\u001b[1;33m.\u001b[0m\u001b[0mreact\u001b[0m\u001b[1;33m(\u001b[0m\u001b[0mevent\u001b[0m\u001b[1;33m)\u001b[0m\u001b[1;33m\u001b[0m\u001b[1;33m\u001b[0m\u001b[0m\n",
      "\u001b[1;31mNameError\u001b[0m: name 'exit' is not defined"
     ]
    }
   ],
   "source": [
    "#ThorPy real life tutorial : full final code\n",
    "import thorpy\n",
    "\n",
    "def refresh_sliders(event, drag, sx, sy):\n",
    "    if event.el == drag:\n",
    "        pos_drag = drag.get_rect().topleft\n",
    "        sx.unblit_and_reblit_func(sx.set_value, value=pos_drag[0])\n",
    "        sy.unblit_and_reblit_func(sy.set_value, value=pos_drag[1])\n",
    "\n",
    "def refresh_drag(event, drag, sx, sy):\n",
    "    if event.el == sx or event.el == sy:\n",
    "        drag.unblit_and_reblit_func(drag.set_topleft,\n",
    "                                    pos=(sx.get_value(), sy.get_value()))\n",
    "\n",
    "def run_application():\n",
    "    W, H = 300, 300\n",
    "    application = thorpy.Application(size=(W,H), caption=\"Real life example\")\n",
    "\n",
    "    draggable = thorpy.Draggable(\"Drag me\")\n",
    "    sx = thorpy.SliderX(length=100, limvals=(0, W), text=\"X:\", type_=int)\n",
    "    sy = thorpy.SliderX(length=100, limvals=(0, H), text=\"Y:\", type_=int)\n",
    "\n",
    "    background = thorpy.Background(color=(200,255,255),\n",
    "                                        elements=[draggable, sx, sy])\n",
    "    thorpy.store(background, [sx, sy])\n",
    "\n",
    "    reaction1 = thorpy.Reaction(reacts_to=thorpy.constants.THORPY_EVENT,\n",
    "                                reac_func=refresh_drag,\n",
    "                                event_args={\"id\":thorpy.constants.EVENT_SLIDE},\n",
    "                                params={\"drag\":draggable, \"sx\":sx, \"sy\":sy},\n",
    "                                reac_name=\"my reaction to slide event\")\n",
    "\n",
    "    reaction2 = thorpy.Reaction(reacts_to=thorpy.constants.THORPY_EVENT,\n",
    "                                reac_func=refresh_sliders,\n",
    "                                event_args={\"id\":thorpy.constants.EVENT_DRAG},\n",
    "                                params={\"drag\":draggable, \"sx\":sx, \"sy\":sy},\n",
    "                                reac_name=\"my reaction to drag event\")\n",
    "\n",
    "    background.add_reaction(reaction1)\n",
    "    background.add_reaction(reaction2)\n",
    "\n",
    "    menu = thorpy.Menu(background) #create a menu for auto events handling\n",
    "    menu.play() #launch the menu\n",
    "    application.quit()\n",
    "\n",
    "run_application()"
   ]
  },
  {
   "cell_type": "code",
   "execution_count": 13,
   "metadata": {},
   "outputs": [],
   "source": [
    "pygame.init()\n",
    "pygame.key.set_repeat(300, 30) #set behavior for key repeats (delay,inteval)\n",
    "screen = pygame.display.set_mode((1440,900))\n",
    "pygame.display.set_caption('Pygame Test')\n",
    "screen.fill((255,255,255))\n",
    "rect = pygame.Rect((0, 0, 50, 50))\n",
    "rect.center = screen.get_rect().center\n",
    "clock = pygame.time.Clock()\n",
    "\n",
    "pygame.draw.rect(screen, (255,0,0), rect)\n",
    "pygame.display.flip()\n",
    "\n",
    "#declaration of some ThorPy elements ...\n",
    "ss = thorpy.SliderX(100, (1, 50), \"My Slider\")\n",
    "button = thorpy.make_button(\"Quit\", func=thorpy.functions.quit_func)\n",
    "# button2 = thorpy.make_button(\"Toggle\", func=pygame.display.set_mode(800,600))\n",
    "box = thorpy.Box(elements=[ss,button])\n",
    "#we regroup all elements on a menu, even if we do not launch the menu\n",
    "menu = thorpy.Menu(box)\n",
    "#important : set the screen as surface for all elements\n",
    "for element in menu.get_population():\n",
    "    element.surface = screen\n",
    "#use the elements normally...\n",
    "box.set_topleft((100,100))\n",
    "box.blit()\n",
    "box.update()\n",
    "\n",
    "#when left arrow is pressed, the red rect goes to the left\n",
    "playing_game = True\n",
    "while playing_game:\n",
    "    clock.tick(45)\n",
    "    for event in pygame.event.get():\n",
    "        if event.type == pygame.QUIT:\n",
    "            playing_game = False\n",
    "            break\n",
    "        elif event.type == pygame.KEYDOWN:\n",
    "            if event.key == pygame.K_LEFT:\n",
    "                pygame.draw.rect(screen, (255,255,255), rect)\n",
    "                pygame.display.update(rect)\n",
    "                rect.move_ip((-10,0))\n",
    "                pygame.draw.rect(screen, (255,0,0), rect)\n",
    "                pygame.display.update(rect)\n",
    "            elif event.key == pygame.K_RIGHT:\n",
    "                pygame.draw.rect(screen, (255,255,255), rect)\n",
    "                pygame.display.update(rect)\n",
    "                rect.move_ip((+10,0))\n",
    "                pygame.draw.rect(screen, (255,0,0), rect)\n",
    "                pygame.display.update(rect)\n",
    "            elif event.key == pygame.K_UP:\n",
    "                pygame.draw.rect(screen, (255,255,255), rect)\n",
    "                pygame.display.update(rect)\n",
    "                rect.move_ip((0,-10))\n",
    "                pygame.draw.rect(screen, (255,0,0), rect)\n",
    "                pygame.display.update(rect)\n",
    "            elif event.key == pygame.K_DOWN:\n",
    "                pygame.draw.rect(screen, (255,255,255), rect)\n",
    "                pygame.display.update(rect)\n",
    "                rect.move_ip((0,+10))\n",
    "                pygame.draw.rect(screen, (255,0,0), rect)\n",
    "                pygame.display.update(rect)\n",
    "        menu.react(event) #the menu automatically integrate your elements\n",
    "\n",
    "pygame.quit()"
   ]
  },
  {
   "cell_type": "code",
   "execution_count": null,
   "metadata": {},
   "outputs": [],
   "source": []
  }
 ],
 "metadata": {
  "kernelspec": {
   "display_name": "Python 3",
   "language": "python",
   "name": "python3"
  },
  "language_info": {
   "codemirror_mode": {
    "name": "ipython",
    "version": 3
   },
   "file_extension": ".py",
   "mimetype": "text/x-python",
   "name": "python",
   "nbconvert_exporter": "python",
   "pygments_lexer": "ipython3",
   "version": "3.7.3"
  }
 },
 "nbformat": 4,
 "nbformat_minor": 2
}
